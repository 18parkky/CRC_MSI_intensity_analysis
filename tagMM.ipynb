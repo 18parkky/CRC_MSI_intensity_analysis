{
 "cells": [
  {
   "cell_type": "code",
   "execution_count": 1,
   "metadata": {},
   "outputs": [],
   "source": [
    "import pysam"
   ]
  },
  {
   "cell_type": "code",
   "execution_count": null,
   "metadata": {},
   "outputs": [],
   "source": [
    "PATH_MM_BAM     = ''\n",
    "PATH_ALIGNED_BAM = ''\n",
    "PATH_OUT_BAM    = ''\n",
    "PATH_log        = ''\n",
    "\n",
    "MM_BAM      = pysam.AlignmentFile(PATH_MM_BAM, 'rb')\n",
    "ALIGNED_BAM = pysam.AlignmentFile(PATH_ALIGNED_BAM, 'rb')\n",
    "OUT_BAM     = pysam.AlignmentFile(PATH_OUT_BAM, 'wb', template=ALIGNED_BAM)\n",
    "log         = open(PATH_log, 'w')"
   ]
  },
  {
   "cell_type": "code",
   "execution_count": null,
   "metadata": {},
   "outputs": [],
   "source": [
    "# [1] Build dictionary\n",
    "dict_ReadName_to_Tags = dict()\n",
    "\n",
    "for read in MM_BAM.fetch(until_eof=True):\n",
    "    try:\n",
    "        ML_tag = read.get_tag('ML')\n",
    "        MM_tag = read.get_tag('MM')\n",
    "    except: \n",
    "        continue \n",
    "    \n",
    "    dict_ReadName_to_Tags[read.query_name] = [ ML_tag, MM_tag ]\n",
    "\n",
    "# [2] Tag MM/ML tags\n",
    "for read in ALIGNED_BAM.fetch():\n",
    "    if read.is_secondary==True or read.is_supplementary==True: continue \n",
    "    \n",
    "    try:\n",
    "        ML_tag, MM_tag = dict_ReadName_to_Tags[read.query_name][0], dict_ReadName_to_Tags[read.query_name][1]\n",
    "    except KeyError:\n",
    "        log.write(f'{read.query_name}\\n')\n",
    "        \n",
    "    read.set_tag('ML', ML_tag)\n",
    "    read.set_tag('MM', MM_tag)\n",
    "    OUT_BAM.write(read)\n",
    "\n",
    "MM_BAM.close()\n",
    "ALIGNED_BAM.close()\n",
    "OUT_BAM.close()\n",
    "log.close()"
   ]
  }
 ],
 "metadata": {
  "kernelspec": {
   "display_name": "sc",
   "language": "python",
   "name": "python3"
  },
  "language_info": {
   "codemirror_mode": {
    "name": "ipython",
    "version": 3
   },
   "file_extension": ".py",
   "mimetype": "text/x-python",
   "name": "python",
   "nbconvert_exporter": "python",
   "pygments_lexer": "ipython3",
   "version": "3.12.5"
  }
 },
 "nbformat": 4,
 "nbformat_minor": 2
}
