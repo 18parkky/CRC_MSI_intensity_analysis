{
 "cells": [
  {
   "cell_type": "markdown",
   "metadata": {},
   "source": [
    "# `0_DataProcessing`"
   ]
  },
  {
   "cell_type": "markdown",
   "metadata": {},
   "source": [
    "## `1_prepare_data.ipynb`"
   ]
  },
  {
   "cell_type": "markdown",
   "metadata": {},
   "source": [
    "Required files\n",
    "1. CellRanger output of all MSI samples (.h5ad)\n",
    "2. Metadata of each dataset (detailing sample accession)"
   ]
  },
  {
   "cell_type": "markdown",
   "metadata": {},
   "source": [
    "For each dataset (Chen, Joanito-KUL and Joanito-SG1)...\n",
    "- Read raw h5ad for each sample and run `Scrublet`\n",
    "- Label `SampleID`, `PatientID`, `BiopsySite` and write the scrublet-processed h5ad to disk\n",
    "- Merge all h5ad files into one, then run `sc.pp.calculate_qc_metrics`\n",
    "- Save the merged h5ad file to disk\n",
    "\n",
    "By the end of this script, you should have 3 h5ad files, each representing the merged h5ad files of each dataset.<br/>\n",
    "※ Chen et al. SD patients and duodenal carcinoma patients are excluded!"
   ]
  },
  {
   "cell_type": "markdown",
   "metadata": {},
   "source": [
    "## `2_ScanpyPreprocessing.ipynb`"
   ]
  },
  {
   "cell_type": "markdown",
   "metadata": {},
   "source": [
    "Required files\n",
    "1. h5ad files for each dataset generated from `1_prepare_data.ipynb`\n",
    "2. Cell metadata of each dataset (detailing author annotation of cells)"
   ]
  },
  {
   "cell_type": "markdown",
   "metadata": {},
   "source": [
    "- Using the author-provided metadata, label the cell-type for each cell\n",
    "    - There will be many unlabeled cells in the process.\n",
    "    - For now, do **not** remove these cells\n",
    "- Save the annotated-file to disk"
   ]
  },
  {
   "cell_type": "markdown",
   "metadata": {},
   "source": [
    "## `3_NanoMnT_Labeling.ipynb`"
   ]
  },
  {
   "cell_type": "markdown",
   "metadata": {},
   "source": [
    "Required files\n",
    "1. h5ad files for each dataset generated from `2_ScanpyPreprocessing.ipynb`\n",
    "2. NanoMnT allele tables for each sample processed by Cell Ranger"
   ]
  },
  {
   "cell_type": "markdown",
   "metadata": {},
   "source": [
    "- Load NanoMnT allele tables and process them by \n",
    "    - Filtering out reads with low quality flanking sequences (e.g., indels within flankings)\n",
    "    - Remove G- or C-repeats\n",
    "    - Filter out reads without CB or UMI\n",
    "- Merge the allele tables together (with sample/patient information labeled)\n",
    "- Overlay the STR profile for each cell to adata\n",
    "- Save the NanoMnT-labeled adata to disk\n",
    "- Save the merged Allele table"
   ]
  },
  {
   "cell_type": "markdown",
   "metadata": {},
   "source": [
    "# `1_EpithelialAnalysis`"
   ]
  },
  {
   "cell_type": "markdown",
   "metadata": {},
   "source": [
    "## `1_Epithelial_Subclustering.ipynb`"
   ]
  },
  {
   "cell_type": "markdown",
   "metadata": {},
   "source": [
    "Required files\n",
    "1. h5ad files for each dataset generated from `3_NanoMnT_Labeling.ipynb` (previous notebook)\n",
    "2. Metadata for each dataset that contains MSI status"
   ]
  },
  {
   "cell_type": "markdown",
   "metadata": {},
   "source": [
    "※ Process each dataset separately\n",
    "\n",
    "First, label MSI status to adata using metadata.<br/>\n",
    "Subset adata for epithelial cells (using author annotation) (same procedures shown in `2_ScanpyPreprocessing.ipynb`).<br/>\n",
    "\n",
    "**Goal: Distinguishing normal vs. tumor epithelial cells**\n",
    "\n",
    "Epithelial tumor cell annotation principle, ordered in terms of importance<br/>\n",
    "1. Leiden clusters that are composed of multiple patients represent normal cells\n",
    "2. Leiden clusters that are mostly NAT-derived represent normal cells\n",
    "3. Leiden clusters that satisfy all 3 conditions represent tumor cells: \n",
    "    - patient-specific\n",
    "    - exhibit MSI-like STR profiles (for MSI)\n",
    "    - high iCMS3 module expression"
   ]
  },
  {
   "cell_type": "markdown",
   "metadata": {},
   "source": [
    "## `2_MSI_intensity.ipynb`"
   ]
  },
  {
   "cell_type": "markdown",
   "metadata": {},
   "source": [
    "Required files\n",
    "1. h5ad files that contains Epithelial cells for each dataset generated from `1_Epithelial_Subclustering.ipynb` (previous notebook)\n",
    "2. Allele table generated from "
   ]
  },
  {
   "cell_type": "markdown",
   "metadata": {},
   "source": [
    "1. MSI intensity of each patient\n",
    "    - Inspect the STR profile of all cells of both dataset (separately) and check that the results are sound\n",
    "    - Visualize STR allele profiles of each patient using Seaborn heatmaps across various STR lengths (Tumor cells vs. Normal cells)\n",
    "        - Further validate the results by comparing multiple individual STR loci with higher coverage"
   ]
  },
  {
   "cell_type": "markdown",
   "metadata": {},
   "source": [
    "## `3_MSI_intensity_driver.ipynb`"
   ]
  },
  {
   "cell_type": "markdown",
   "metadata": {},
   "source": [
    "Required files\n",
    "1. h5ad files that contains Epithelial cells for each dataset generated from `1_Epithelial_Subclustering.ipynb`\n",
    "2. Allele table from `3_NanoMnT_Labeling.ipynb`\n",
    "\n",
    "Investigate transcriptomic factors that associate with MSI intensity: gene expression, module score, cell cycle proportions, and other relevant genes.<br/>\n",
    "**→ Results are unsatisfactory**"
   ]
  },
  {
   "cell_type": "markdown",
   "metadata": {},
   "source": [
    "## `4_MSI_intensity_prediction.ipynb`"
   ]
  },
  {
   "cell_type": "markdown",
   "metadata": {},
   "source": [
    "Required files\n",
    "1. h5ad files that contains Epithelial cells for each dataset generated from `1_Epithelial_Subclustering.ipynb` \n",
    "\n",
    "Use XGBoost to identify features (genes) that can be used to predict MSI detection.<br/>\n",
    "**→ Results are unsatisfactory, except perhaps S100A6 but this may not be relevant.**"
   ]
  },
  {
   "cell_type": "markdown",
   "metadata": {},
   "source": [
    "# `2_TME_analysis`"
   ]
  },
  {
   "cell_type": "markdown",
   "metadata": {},
   "source": [
    "## Cell type anntoation"
   ]
  },
  {
   "cell_type": "markdown",
   "metadata": {},
   "source": [
    "### `1_1_Chen_TME_annotation_1.ipynb`"
   ]
  },
  {
   "cell_type": "markdown",
   "metadata": {},
   "source": [
    "Annotate B and T cell lineages"
   ]
  },
  {
   "cell_type": "markdown",
   "metadata": {},
   "source": [
    "### `1_2_Chen_TME_annotation_2.ipynb`"
   ]
  },
  {
   "cell_type": "markdown",
   "metadata": {},
   "source": [
    "Annotate myeloid and epithelial lineage"
   ]
  },
  {
   "cell_type": "markdown",
   "metadata": {},
   "source": [
    "### `1_3_Chen_TME_annotation_3.ipynb`"
   ]
  },
  {
   "cell_type": "markdown",
   "metadata": {},
   "source": [
    "Annotate endothelial and stromal lineages"
   ]
  },
  {
   "cell_type": "markdown",
   "metadata": {},
   "source": [
    "### `1_4_Joanito_TME_annotation_1.ipynb`"
   ]
  },
  {
   "cell_type": "markdown",
   "metadata": {},
   "source": [
    "### `1_5_Joanito_TME_annotation_2.ipynb`"
   ]
  },
  {
   "cell_type": "markdown",
   "metadata": {},
   "source": [
    "### `1_6_Joanito_TME_annotation_3.ipynb`"
   ]
  },
  {
   "cell_type": "code",
   "execution_count": null,
   "metadata": {
    "vscode": {
     "languageId": "plaintext"
    }
   },
   "outputs": [],
   "source": []
  },
  {
   "cell_type": "markdown",
   "metadata": {},
   "source": []
  },
  {
   "cell_type": "markdown",
   "metadata": {},
   "source": [
    "## `2_TME_proportion_analysis.ipynb`"
   ]
  },
  {
   "cell_type": "code",
   "execution_count": null,
   "metadata": {
    "vscode": {
     "languageId": "plaintext"
    }
   },
   "outputs": [],
   "source": []
  },
  {
   "cell_type": "code",
   "execution_count": null,
   "metadata": {
    "vscode": {
     "languageId": "plaintext"
    }
   },
   "outputs": [],
   "source": []
  },
  {
   "cell_type": "code",
   "execution_count": null,
   "metadata": {
    "vscode": {
     "languageId": "plaintext"
    }
   },
   "outputs": [],
   "source": []
  },
  {
   "cell_type": "code",
   "execution_count": null,
   "metadata": {
    "vscode": {
     "languageId": "plaintext"
    }
   },
   "outputs": [],
   "source": []
  },
  {
   "cell_type": "markdown",
   "metadata": {},
   "source": [
    "## 2_2_manual_annot.ipynb"
   ]
  },
  {
   "cell_type": "markdown",
   "metadata": {},
   "source": [
    "Because Chen et al has not provided a good metadata, we will need to manually re-annotate the cells ourselves."
   ]
  },
  {
   "cell_type": "markdown",
   "metadata": {},
   "source": [
    "## 2_3_extract_epi.ipynb"
   ]
  },
  {
   "cell_type": "markdown",
   "metadata": {},
   "source": [
    "Extract epithelial cells from the manually re-annotated data"
   ]
  },
  {
   "cell_type": "markdown",
   "metadata": {},
   "source": [
    "## 3_NanoMnT_analysis.ipynb"
   ]
  },
  {
   "cell_type": "markdown",
   "metadata": {},
   "source": [
    "Overlay NanoMnT results and visualize association with ICI response"
   ]
  },
  {
   "cell_type": "markdown",
   "metadata": {},
   "source": [
    "## 4_MSI_intensity_analysis.ipynb"
   ]
  },
  {
   "cell_type": "markdown",
   "metadata": {},
   "source": [
    "Find transcriptomic features associated with MSI intensity"
   ]
  }
 ],
 "metadata": {
  "language_info": {
   "name": "python"
  }
 },
 "nbformat": 4,
 "nbformat_minor": 2
}
