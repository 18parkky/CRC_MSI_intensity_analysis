{
 "cells": [
  {
   "cell_type": "code",
   "execution_count": 1,
   "metadata": {},
   "outputs": [],
   "source": [
    "import os\n",
    "import glob\n",
    "import subprocess\n",
    "import numpy as np\n",
    "import pandas as pd\n",
    "import scipy\n",
    "\n",
    "import seaborn as sns \n",
    "import matplotlib.pyplot as plt"
   ]
  },
  {
   "cell_type": "code",
   "execution_count": 2,
   "metadata": {},
   "outputs": [],
   "source": [
    "gtf = pd.read_csv('/node200data/18parkky/datasets/reference/transcriptome/GFF/gencode.v47.basic.annotation.labeled.gtf', sep='\\t')\n",
    "dict_TranscriptID_to_GeneName   = { tup.ENST : tup.gene_name for tup in gtf.itertuples() }\n",
    "dict_TranscriptID_to_GeneID     = { tup.ENST : tup.ENSG for tup in gtf[gtf['feature']=='transcript'].itertuples() }"
   ]
  },
  {
   "cell_type": "markdown",
   "metadata": {},
   "source": [
    "## Run Salmon (depr: no-need)"
   ]
  },
  {
   "cell_type": "code",
   "execution_count": 362,
   "metadata": {},
   "outputs": [
    {
     "name": "stdout",
     "output_type": "stream",
     "text": [
      "/node200data/18parkky/programs/salmon/salmon-latest_linux_x86_64/bin/salmon quant -i /node200data/18parkky/datasets/reference/z_program_references/salmon/hg38_index -l A -1 /node200data/18parkky/datasets/data/public/FASTQ/SG-BULK/MSI/1236/1236_R1.fastq.gz -2 /node200data/18parkky/datasets/data/public/FASTQ/SG-BULK/MSI/1236/1236_R2.fastq.gz -p 32 -o /node200data/18parkky/datasets/data/public/processed_data/Joanito_et_al/SG-BULK/salmon_out/1236\n",
      "/node200data/18parkky/programs/salmon/salmon-latest_linux_x86_64/bin/salmon quant -i /node200data/18parkky/datasets/reference/z_program_references/salmon/hg38_index -l A -1 /node200data/18parkky/datasets/data/public/FASTQ/SG-BULK/MSI/1253/1253_R1.fastq.gz -2 /node200data/18parkky/datasets/data/public/FASTQ/SG-BULK/MSI/1253/1253_R2.fastq.gz -p 32 -o /node200data/18parkky/datasets/data/public/processed_data/Joanito_et_al/SG-BULK/salmon_out/1253\n",
      "/node200data/18parkky/programs/salmon/salmon-latest_linux_x86_64/bin/salmon quant -i /node200data/18parkky/datasets/reference/z_program_references/salmon/hg38_index -l A -1 /node200data/18parkky/datasets/data/public/FASTQ/SG-BULK/MSI/1627/1627_R1.fastq.gz -2 /node200data/18parkky/datasets/data/public/FASTQ/SG-BULK/MSI/1627/1627_R2.fastq.gz -p 32 -o /node200data/18parkky/datasets/data/public/processed_data/Joanito_et_al/SG-BULK/salmon_out/1627\n",
      "/node200data/18parkky/programs/salmon/salmon-latest_linux_x86_64/bin/salmon quant -i /node200data/18parkky/datasets/reference/z_program_references/salmon/hg38_index -l A -1 /node200data/18parkky/datasets/data/public/FASTQ/SG-BULK/MSI/1054/1054_R1.fastq.gz -2 /node200data/18parkky/datasets/data/public/FASTQ/SG-BULK/MSI/1054/1054_R2.fastq.gz -p 32 -o /node200data/18parkky/datasets/data/public/processed_data/Joanito_et_al/SG-BULK/salmon_out/1054\n",
      "/node200data/18parkky/programs/salmon/salmon-latest_linux_x86_64/bin/salmon quant -i /node200data/18parkky/datasets/reference/z_program_references/salmon/hg38_index -l A -1 /node200data/18parkky/datasets/data/public/FASTQ/SG-BULK/MSI/649/649_R1.fastq.gz -2 /node200data/18parkky/datasets/data/public/FASTQ/SG-BULK/MSI/649/649_R2.fastq.gz -p 32 -o /node200data/18parkky/datasets/data/public/processed_data/Joanito_et_al/SG-BULK/salmon_out/649\n",
      "/node200data/18parkky/programs/salmon/salmon-latest_linux_x86_64/bin/salmon quant -i /node200data/18parkky/datasets/reference/z_program_references/salmon/hg38_index -l A -1 /node200data/18parkky/datasets/data/public/FASTQ/SG-BULK/MSI/1672/1672_R1.fastq.gz -2 /node200data/18parkky/datasets/data/public/FASTQ/SG-BULK/MSI/1672/1672_R2.fastq.gz -p 32 -o /node200data/18parkky/datasets/data/public/processed_data/Joanito_et_al/SG-BULK/salmon_out/1672\n"
     ]
    }
   ],
   "source": [
    "# PATH_sh = '/node200data/18parkky/datasets/data/public/processed_data/Joanito_et_al/SG-BULK/salmon_out/runSalmonQuant.sh'\n",
    "\n",
    "# PATH_salmon_bin = '/node200data/18parkky/programs/salmon/salmon-latest_linux_x86_64/bin/salmon'\n",
    "# DIR_salmon_index = '/node200data/18parkky/datasets/reference/z_program_references/salmon/hg38_index'\n",
    "# list_DIR_FASTQ  = '/node200data/18parkky/datasets/data/public/FASTQ/SG-BULK/MSI'\n",
    "# DIR_salmon_out = '/node200data/18parkky/datasets/data/public/processed_data/Joanito_et_al/SG-BULK/salmon_out'\n",
    "# num_threads = 32\n",
    "\n",
    "\n",
    "# with open(PATH_sh, 'w') as sh:\n",
    "#     for DIR_FASTQ in glob.glob(f'{list_DIR_FASTQ}/*'):\n",
    "#         PatientID = DIR_FASTQ.split('/')[-1]\n",
    "\n",
    "#         if os.path.isdir(DIR_FASTQ)==False or '_only' in DIR_FASTQ: continue \n",
    "#         if os.path.exists( f'{DIR_salmon_out}/{PatientID}' ) == True: continue \n",
    "        \n",
    "#         PATH_R1_FASTQ = f'{DIR_FASTQ}/{PatientID}_R1.fastq.gz'\n",
    "#         PATH_R2_FASTQ = f'{DIR_FASTQ}/{PatientID}_R2.fastq.gz'\n",
    "\n",
    "#         cmd = f'{PATH_salmon_bin} quant -i {DIR_salmon_index} -l A -1 {PATH_R1_FASTQ} -2 {PATH_R2_FASTQ} -p {num_threads} -o {DIR_salmon_out}/{PatientID}'\n",
    "#         print(cmd)\n",
    "#         sh.write(f'{cmd}\\n')\n"
   ]
  },
  {
   "cell_type": "markdown",
   "metadata": {},
   "source": [
    "### Merge Salmon outputs"
   ]
  },
  {
   "cell_type": "code",
   "execution_count": 398,
   "metadata": {},
   "outputs": [],
   "source": [
    "# list_salmons = list()\n",
    "# for DIR_salmon in [ D for D in glob.glob('/node200data/18parkky/datasets/data/public/processed_data/Joanito_et_al/SG-BULK/salmon_out/*') if os.path.isdir(D)==True ]:\n",
    "#     PATH_salmon = f'{DIR_salmon}/quant.sf'\n",
    "#     if os.path.exists(PATH_salmon) == False: continue \n",
    "    \n",
    "#     PatientID = DIR_salmon.split('/')[-1]\n",
    "#     print(PatientID, flush=True,)\n",
    "    \n",
    "#     salmon = pd.read_csv(PATH_salmon, sep='\\t')\n",
    "#     salmon['PatientID'] = PatientID\n",
    "    \n",
    "#     col_GeneID = list()\n",
    "#     for ENST in salmon['Name']:\n",
    "#         try:\n",
    "#             col_GeneID.append(dict_TranscriptID_to_GeneID[ENST])\n",
    "#         except KeyError:\n",
    "#             col_GeneID.append( None )\n",
    "#     salmon['GeneID'] = col_GeneID\n",
    "    \n",
    "#     salmonGeneLevel = list()\n",
    "#     for GeneID, edf in salmon.dropna().groupby('GeneID'):\n",
    "#         salmonGeneLevel.append( [GeneID, edf.iloc[0].PatientID, sum( edf['TPM'] )] )\n",
    "#     salmonGeneLevel = pd.DataFrame(salmonGeneLevel, columns=['ENSMUSG', 'PatientID', 'TPM'])\n",
    "    \n",
    "#     list_salmons.append( salmonGeneLevel )\n",
    "    \n",
    "# salmons = pd.concat(list_salmons)"
   ]
  },
  {
   "cell_type": "code",
   "execution_count": 407,
   "metadata": {},
   "outputs": [],
   "source": [
    "# salmons['ENSMUSG_2'] = [ ENSMUSG.split('.')[0] for ENSMUSG in salmons['ENSMUSG'] ]\n",
    "# salmons_mtx = salmons.pivot(index='ENSMUSG_2', columns='PatientID', values='TPM')\n",
    "# salmons_mtx.to_csv('/node200data/18parkky/datasets/data/public/processed_data/Joanito_et_al/SG-BULK/salmon_out/merged.csv', )\n",
    "\n",
    "# g = [ ENSG.split('.')[0] for ENSG in gtf[(gtf['gene_name'].isin(['S100A6', 'S100P'])) & (gtf['feature']=='gene')]['ENSG'] ]\n",
    "\n",
    "# salmons_mtx[salmons_mtx.index.isin(g)]"
   ]
  },
  {
   "cell_type": "code",
   "execution_count": null,
   "metadata": {},
   "outputs": [],
   "source": [
    "# dict_ENST_to_ExpressionValues = dict()\n",
    "# for ENST, edf in salmons.groupby('Name'):\n",
    "#     if len(edf) != len(set(salmons['PatientID'])):\n",
    "#         print(ENST)\n",
    "#         break\n",
    "    \n",
    "#     temp = list()\n",
    "#     for tup in edf.sort_values('PatientID').itertuples():\n",
    "#         temp.append( tup.TPM )\n",
    "#     dict_ENST_to_ExpressionValues[ ENST ] = temp"
   ]
  },
  {
   "cell_type": "markdown",
   "metadata": {},
   "source": [
    "## Load Author-provided salmon output"
   ]
  },
  {
   "cell_type": "code",
   "execution_count": 3,
   "metadata": {},
   "outputs": [],
   "source": [
    "SGBulk_metadata = pd.read_csv('/node200data/18parkky/datasets/data/public/FASTQ/SG-BULK/Synapse-metadata/SG-BULK_patient_clinical_information.csv')\n",
    "SGBulk_metadata_MSI = SGBulk_metadata[SGBulk_metadata['MSI.Status']=='MSI'].copy()\n",
    "MSI_PatientID = list([ str(e) for e in SGBulk_metadata_MSI['patient_id'] ])"
   ]
  },
  {
   "cell_type": "code",
   "execution_count": 4,
   "metadata": {},
   "outputs": [],
   "source": [
    "SalmonOut = pd.read_csv('/node200data/18parkky/datasets/data/public/FASTQ/SG-BULK/Synapse-metadata/SG-BULK_salmonTPM.csv')\n",
    "SalmonOut.rename( {'Unnamed: 0' : 'GeneID'}, axis=1, inplace=True )"
   ]
  },
  {
   "cell_type": "code",
   "execution_count": 5,
   "metadata": {},
   "outputs": [],
   "source": [
    "dict_GeneID_to_GeneName = { tup.ENSG.split('.')[0] : tup.gene_name for tup in gtf.itertuples() }\n",
    "for ENSG in SalmonOut['GeneID']:\n",
    "    try: dict_GeneID_to_GeneName[ENSG]\n",
    "    except KeyError: dict_GeneID_to_GeneName[ENSG] = None\n",
    "    \n",
    "SalmonOut['GeneName'] = [ dict_GeneID_to_GeneName[GID] for GID in SalmonOut['GeneID'] ]"
   ]
  },
  {
   "cell_type": "code",
   "execution_count": 6,
   "metadata": {},
   "outputs": [],
   "source": [
    "# Filter out MSS patients\n",
    "SalmonOut = SalmonOut[['GeneID', 'GeneName']+ MSI_PatientID ].copy()"
   ]
  },
  {
   "cell_type": "markdown",
   "metadata": {},
   "source": [
    "## Load NanoMnT results"
   ]
  },
  {
   "cell_type": "code",
   "execution_count": 41,
   "metadata": {},
   "outputs": [],
   "source": [
    "AlleleTable = pd.read_csv('/node200data/18parkky/datasets/data/public/processed_data/Joanito_et_al/SG-BULK/AlleleTable.concat.tsv.gz', sep='\\t')\n",
    "AlleleTable.rename( {'read_STR_length' : 'read_STR_allele', 'patient_id' : 'PatientID'}, axis=1, inplace=True )\n",
    "AlleleTable['diff'] = AlleleTable['read_STR_allele'] - AlleleTable['reference_STR_allele']\n",
    "orig_length = len(AlleleTable)\n",
    "orig_length"
   ]
  },
  {
   "cell_type": "code",
   "execution_count": 45,
   "metadata": {},
   "outputs": [
    {
     "name": "stdout",
     "output_type": "stream",
     "text": [
      "89.9 %\n"
     ]
    }
   ],
   "source": [
    "### 1. Filter out low-quality flankings (e.g., indels within flankings)        \n",
    "col_flanking_quality = list()\n",
    "for tup in AlleleTable.itertuples():\n",
    "    bf = f'{tup.left_flanking_seq}{tup.right_flanking_seq}'\n",
    "    if '*' in bf:\n",
    "        col_flanking_quality.append( 'Poor' )\n",
    "    elif bf.upper() != bf:\n",
    "        col_flanking_quality.append( 'Poor' )\n",
    "    else:\n",
    "        col_flanking_quality.append( 'Good' )\n",
    "        \n",
    "AlleleTable['flanking_quality'] = col_flanking_quality\n",
    "AlleleTable = AlleleTable[(AlleleTable['flanking_quality']=='Good')].copy()\n",
    "\n",
    "### 2. Filter out G/C repeats\n",
    "AlleleTable = AlleleTable[(AlleleTable['repeat_unit'].isin(['A', 'T']))].copy()\n",
    "print(f'{round(100*len(AlleleTable)/orig_length, 2)} %')        "
   ]
  },
  {
   "cell_type": "code",
   "execution_count": 329,
   "metadata": {},
   "outputs": [],
   "source": [
    "AlleleTable.to_csv('/node200data/18parkky/datasets/data/public/processed_data/Joanito_et_al/SG-BULK/AlleleTable.concat.processed.tsv.gz', sep='\\t', index=False, compression='gzip')"
   ]
  },
  {
   "cell_type": "code",
   "execution_count": 7,
   "metadata": {},
   "outputs": [],
   "source": [
    "AlleleTable = pd.read_csv('/node200data/18parkky/datasets/data/public/processed_data/Joanito_et_al/SG-BULK/AlleleTable.concat.processed.tsv.gz', sep='\\t')"
   ]
  },
  {
   "cell_type": "code",
   "execution_count": 8,
   "metadata": {},
   "outputs": [],
   "source": [
    "AlleleTable_MSI = AlleleTable[AlleleTable['PatientID'].isin( set(SGBulk_metadata_MSI['patient_id']) )].copy()"
   ]
  },
  {
   "cell_type": "markdown",
   "metadata": {},
   "source": [
    "## Summarize NanoMnT results by patient"
   ]
  },
  {
   "cell_type": "code",
   "execution_count": 9,
   "metadata": {},
   "outputs": [],
   "source": [
    "STRProfileByPatient = list()\n",
    "\n",
    "for PatientID, edf in AlleleTable_MSI.groupby('PatientID'):\n",
    "    for reference_STR_allele, edf2 in edf.groupby('reference_STR_allele'):\n",
    "        STRProfileByPatient.append( [str(PatientID), \n",
    "                                     reference_STR_allele, \n",
    "                                     np.mean(edf2['diff']),\n",
    "                                     np.std(edf2['diff']), \n",
    "                                     len(edf2)] )\n",
    "        \n",
    "STRProfileByPatient = pd.DataFrame(STRProfileByPatient, columns=['PatientID', 'reference_STR_allele', 'AvgSTRDiff', 'StdSTRDiff', 'NumSTRLoci'])\n",
    "STRProfileByPatient = STRProfileByPatient[STRProfileByPatient['NumSTRLoci']>=1000].copy()"
   ]
  },
  {
   "cell_type": "code",
   "execution_count": 11,
   "metadata": {},
   "outputs": [],
   "source": [
    "STRProfileByPatient_summary = list()\n",
    "\n",
    "for PatientID, edf in AlleleTable_MSI.groupby('PatientID'):\n",
    "    STRProfileByPatient_summary.append( [str(PatientID), \n",
    "                                    np.mean(edf['diff']),\n",
    "                                    np.std(edf['diff']), \n",
    "                                    len(edf)] )\n",
    "        \n",
    "STRProfileByPatient_summary = pd.DataFrame(STRProfileByPatient_summary, columns=['PatientID', 'AvgSTRDiff', 'StdSTRDiff', 'NumSTRLoci'])"
   ]
  },
  {
   "cell_type": "code",
   "execution_count": 13,
   "metadata": {},
   "outputs": [
    {
     "data": {
      "text/html": [
       "<div>\n",
       "<style scoped>\n",
       "    .dataframe tbody tr th:only-of-type {\n",
       "        vertical-align: middle;\n",
       "    }\n",
       "\n",
       "    .dataframe tbody tr th {\n",
       "        vertical-align: top;\n",
       "    }\n",
       "\n",
       "    .dataframe thead th {\n",
       "        text-align: right;\n",
       "    }\n",
       "</style>\n",
       "<table border=\"1\" class=\"dataframe\">\n",
       "  <thead>\n",
       "    <tr style=\"text-align: right;\">\n",
       "      <th></th>\n",
       "      <th>PatientID</th>\n",
       "      <th>AvgSTRDiff</th>\n",
       "      <th>StdSTRDiff</th>\n",
       "      <th>NumSTRLoci</th>\n",
       "      <th>MSI_score</th>\n",
       "    </tr>\n",
       "  </thead>\n",
       "  <tbody>\n",
       "    <tr>\n",
       "      <th>0</th>\n",
       "      <td>490</td>\n",
       "      <td>-1.381072</td>\n",
       "      <td>2.003876</td>\n",
       "      <td>1343662</td>\n",
       "      <td>2.767497</td>\n",
       "    </tr>\n",
       "    <tr>\n",
       "      <th>1</th>\n",
       "      <td>612</td>\n",
       "      <td>-1.048048</td>\n",
       "      <td>1.890055</td>\n",
       "      <td>1860309</td>\n",
       "      <td>1.980868</td>\n",
       "    </tr>\n",
       "    <tr>\n",
       "      <th>2</th>\n",
       "      <td>649</td>\n",
       "      <td>-1.020476</td>\n",
       "      <td>1.897118</td>\n",
       "      <td>1123413</td>\n",
       "      <td>1.935964</td>\n",
       "    </tr>\n",
       "    <tr>\n",
       "      <th>3</th>\n",
       "      <td>698</td>\n",
       "      <td>-0.216449</td>\n",
       "      <td>1.373595</td>\n",
       "      <td>2326246</td>\n",
       "      <td>0.297313</td>\n",
       "    </tr>\n",
       "    <tr>\n",
       "      <th>4</th>\n",
       "      <td>786</td>\n",
       "      <td>-0.942700</td>\n",
       "      <td>1.862969</td>\n",
       "      <td>1454567</td>\n",
       "      <td>1.756221</td>\n",
       "    </tr>\n",
       "    <tr>\n",
       "      <th>5</th>\n",
       "      <td>814</td>\n",
       "      <td>-1.287179</td>\n",
       "      <td>2.036692</td>\n",
       "      <td>1451513</td>\n",
       "      <td>2.621587</td>\n",
       "    </tr>\n",
       "    <tr>\n",
       "      <th>6</th>\n",
       "      <td>1054</td>\n",
       "      <td>-1.359460</td>\n",
       "      <td>2.010035</td>\n",
       "      <td>914336</td>\n",
       "      <td>2.732562</td>\n",
       "    </tr>\n",
       "    <tr>\n",
       "      <th>7</th>\n",
       "      <td>1105</td>\n",
       "      <td>-1.207125</td>\n",
       "      <td>1.931027</td>\n",
       "      <td>1304848</td>\n",
       "      <td>2.330990</td>\n",
       "    </tr>\n",
       "    <tr>\n",
       "      <th>8</th>\n",
       "      <td>1236</td>\n",
       "      <td>-0.769209</td>\n",
       "      <td>1.641775</td>\n",
       "      <td>1203720</td>\n",
       "      <td>1.262868</td>\n",
       "    </tr>\n",
       "    <tr>\n",
       "      <th>9</th>\n",
       "      <td>1253</td>\n",
       "      <td>-1.143452</td>\n",
       "      <td>1.938192</td>\n",
       "      <td>1273723</td>\n",
       "      <td>2.216229</td>\n",
       "    </tr>\n",
       "    <tr>\n",
       "      <th>10</th>\n",
       "      <td>1424</td>\n",
       "      <td>-1.261598</td>\n",
       "      <td>2.008336</td>\n",
       "      <td>1367503</td>\n",
       "      <td>2.533713</td>\n",
       "    </tr>\n",
       "    <tr>\n",
       "      <th>11</th>\n",
       "      <td>1528</td>\n",
       "      <td>-1.288713</td>\n",
       "      <td>2.133656</td>\n",
       "      <td>1707857</td>\n",
       "      <td>2.749670</td>\n",
       "    </tr>\n",
       "    <tr>\n",
       "      <th>12</th>\n",
       "      <td>1556</td>\n",
       "      <td>-1.154901</td>\n",
       "      <td>2.031032</td>\n",
       "      <td>1349209</td>\n",
       "      <td>2.345642</td>\n",
       "    </tr>\n",
       "    <tr>\n",
       "      <th>13</th>\n",
       "      <td>1627</td>\n",
       "      <td>-1.007957</td>\n",
       "      <td>1.990025</td>\n",
       "      <td>1538088</td>\n",
       "      <td>2.005859</td>\n",
       "    </tr>\n",
       "    <tr>\n",
       "      <th>14</th>\n",
       "      <td>1657</td>\n",
       "      <td>-1.111213</td>\n",
       "      <td>2.058928</td>\n",
       "      <td>1756362</td>\n",
       "      <td>2.287909</td>\n",
       "    </tr>\n",
       "  </tbody>\n",
       "</table>\n",
       "</div>"
      ],
      "text/plain": [
       "   PatientID  AvgSTRDiff  StdSTRDiff  NumSTRLoci  MSI_score\n",
       "0        490   -1.381072    2.003876     1343662   2.767497\n",
       "1        612   -1.048048    1.890055     1860309   1.980868\n",
       "2        649   -1.020476    1.897118     1123413   1.935964\n",
       "3        698   -0.216449    1.373595     2326246   0.297313\n",
       "4        786   -0.942700    1.862969     1454567   1.756221\n",
       "5        814   -1.287179    2.036692     1451513   2.621587\n",
       "6       1054   -1.359460    2.010035      914336   2.732562\n",
       "7       1105   -1.207125    1.931027     1304848   2.330990\n",
       "8       1236   -0.769209    1.641775     1203720   1.262868\n",
       "9       1253   -1.143452    1.938192     1273723   2.216229\n",
       "10      1424   -1.261598    2.008336     1367503   2.533713\n",
       "11      1528   -1.288713    2.133656     1707857   2.749670\n",
       "12      1556   -1.154901    2.031032     1349209   2.345642\n",
       "13      1627   -1.007957    1.990025     1538088   2.005859\n",
       "14      1657   -1.111213    2.058928     1756362   2.287909"
      ]
     },
     "execution_count": 13,
     "metadata": {},
     "output_type": "execute_result"
    }
   ],
   "source": [
    "STRProfileByPatient_summary['MSI_score'] = STRProfileByPatient_summary['AvgSTRDiff'] * STRProfileByPatient_summary['StdSTRDiff'] * -1\n",
    "STRProfileByPatient_summary"
   ]
  },
  {
   "cell_type": "code",
   "execution_count": 113,
   "metadata": {},
   "outputs": [],
   "source": [
    "orders = list()\n",
    "for reference_STR_allele in range(15, 24):\n",
    "    STRProfileByPatient_oi = STRProfileByPatient[STRProfileByPatient['reference_STR_allele']==reference_STR_allele]\n",
    "\n",
    "    PatientOrder = STRProfileByPatient_oi.groupby([\"PatientID\"])['AvgSTRDiff'].aggregate('median').reset_index().sort_values('AvgSTRDiff')['PatientID']\n",
    "    orders.append(  list([int(e) for e in PatientOrder]) )\n",
    "\n",
    "# sns.barplot(data=STRProfileByPatient_oi, y='PatientID', x='AvgSTRDiff', order=PatientOrder)"
   ]
  },
  {
   "cell_type": "code",
   "execution_count": 114,
   "metadata": {},
   "outputs": [
    {
     "data": {
      "text/plain": [
       "<Axes: >"
      ]
     },
     "execution_count": 114,
     "metadata": {},
     "output_type": "execute_result"
    },
    {
     "data": {
      "image/png": "[encoded data removed]",
      "text/plain": [
       "<Figure size 640x480 with 2 Axes>"
      ]
     },
     "metadata": {},
     "output_type": "display_data"
    }
   ],
   "source": [
    "sns.heatmap(pd.DataFrame(orders), cmap=sns.color_palette('husl')+sns.color_palette('Paired'))"
   ]
  },
  {
   "cell_type": "markdown",
   "metadata": {},
   "source": [
    "## Overlay tumor purity"
   ]
  },
  {
   "cell_type": "code",
   "execution_count": 14,
   "metadata": {},
   "outputs": [],
   "source": [
    "TumorPurity = pd.read_csv('/node200data/18parkky/datasets/data/public/processed_data/Joanito_et_al/SG-BULK/TumorPurity.tsv', sep='\\t')\n",
    "dict_PatientID_to_Purity = { str(tup.id) : float(tup.purity) for tup in TumorPurity.itertuples() }\n",
    "STRProfileByPatient['TumorPurity'] = [ dict_PatientID_to_Purity[PID] for PID in STRProfileByPatient['PatientID'] ]\n",
    "STRProfileByPatient_summary['TumorPurity'] = [ dict_PatientID_to_Purity[PID] for PID in STRProfileByPatient_summary['PatientID'] ]"
   ]
  },
  {
   "cell_type": "code",
   "execution_count": 67,
   "metadata": {},
   "outputs": [
    {
     "data": {
      "image/png": "[encoded data removed]",
      "text/plain": [
       "<Figure size 640x480 with 1 Axes>"
      ]
     },
     "metadata": {},
     "output_type": "display_data"
    }
   ],
   "source": [
    "STRProfileByPatient_summary['Adjusted_MSI_score'] = STRProfileByPatient_summary['MSI_score'] / STRProfileByPatient_summary['TumorPurity']\n",
    "sns.scatterplot(data=STRProfileByPatient_summary, x='TumorPurity', y='Adjusted_MSI_score')\n",
    "\n",
    "dict_PatientID_to_AdjustedMSIscore = { tup.PatientID : tup.Adjusted_MSI_score  for tup in STRProfileByPatient_summary.itertuples() }"
   ]
  },
  {
   "cell_type": "code",
   "execution_count": 20,
   "metadata": {},
   "outputs": [
    {
     "name": "stderr",
     "output_type": "stream",
     "text": [
      "/tmp/ipykernel_144986/2818643993.py:1: FutureWarning: The provided callable <function median at 0x7f38503d9760> is currently using SeriesGroupBy.median. In a future version of pandas, the provided callable will be used directly. To keep current behavior pass the string \"median\" instead.\n",
      "  orders = STRProfileByPatient_summary.groupby([\"PatientID\"])['Adjusted_MSI_score'].aggregate(np.median).reset_index().sort_values('Adjusted_MSI_score')\n"
     ]
    },
    {
     "data": {
      "text/html": [
       "<div>\n",
       "<style scoped>\n",
       "    .dataframe tbody tr th:only-of-type {\n",
       "        vertical-align: middle;\n",
       "    }\n",
       "\n",
       "    .dataframe tbody tr th {\n",
       "        vertical-align: top;\n",
       "    }\n",
       "\n",
       "    .dataframe thead th {\n",
       "        text-align: right;\n",
       "    }\n",
       "</style>\n",
       "<table border=\"1\" class=\"dataframe\">\n",
       "  <thead>\n",
       "    <tr style=\"text-align: right;\">\n",
       "      <th></th>\n",
       "      <th>PatientID</th>\n",
       "      <th>Adjusted_MSI_score</th>\n",
       "    </tr>\n",
       "  </thead>\n",
       "  <tbody>\n",
       "    <tr>\n",
       "      <th>12</th>\n",
       "      <td>698</td>\n",
       "      <td>0.410229</td>\n",
       "    </tr>\n",
       "    <tr>\n",
       "      <th>2</th>\n",
       "      <td>1236</td>\n",
       "      <td>2.047275</td>\n",
       "    </tr>\n",
       "    <tr>\n",
       "      <th>13</th>\n",
       "      <td>786</td>\n",
       "      <td>2.692035</td>\n",
       "    </tr>\n",
       "    <tr>\n",
       "      <th>1</th>\n",
       "      <td>1105</td>\n",
       "      <td>2.851091</td>\n",
       "    </tr>\n",
       "    <tr>\n",
       "      <th>10</th>\n",
       "      <td>612</td>\n",
       "      <td>2.896132</td>\n",
       "    </tr>\n",
       "    <tr>\n",
       "      <th>11</th>\n",
       "      <td>649</td>\n",
       "      <td>2.994871</td>\n",
       "    </tr>\n",
       "    <tr>\n",
       "      <th>14</th>\n",
       "      <td>814</td>\n",
       "      <td>3.328334</td>\n",
       "    </tr>\n",
       "    <tr>\n",
       "      <th>7</th>\n",
       "      <td>1627</td>\n",
       "      <td>3.446317</td>\n",
       "    </tr>\n",
       "    <tr>\n",
       "      <th>9</th>\n",
       "      <td>490</td>\n",
       "      <td>3.509805</td>\n",
       "    </tr>\n",
       "    <tr>\n",
       "      <th>3</th>\n",
       "      <td>1253</td>\n",
       "      <td>3.529668</td>\n",
       "    </tr>\n",
       "    <tr>\n",
       "      <th>6</th>\n",
       "      <td>1556</td>\n",
       "      <td>3.898983</td>\n",
       "    </tr>\n",
       "    <tr>\n",
       "      <th>5</th>\n",
       "      <td>1528</td>\n",
       "      <td>4.043348</td>\n",
       "    </tr>\n",
       "    <tr>\n",
       "      <th>0</th>\n",
       "      <td>1054</td>\n",
       "      <td>4.390837</td>\n",
       "    </tr>\n",
       "    <tr>\n",
       "      <th>8</th>\n",
       "      <td>1657</td>\n",
       "      <td>4.395354</td>\n",
       "    </tr>\n",
       "    <tr>\n",
       "      <th>4</th>\n",
       "      <td>1424</td>\n",
       "      <td>4.714747</td>\n",
       "    </tr>\n",
       "  </tbody>\n",
       "</table>\n",
       "</div>"
      ],
      "text/plain": [
       "   PatientID  Adjusted_MSI_score\n",
       "12       698            0.410229\n",
       "2       1236            2.047275\n",
       "13       786            2.692035\n",
       "1       1105            2.851091\n",
       "10       612            2.896132\n",
       "11       649            2.994871\n",
       "14       814            3.328334\n",
       "7       1627            3.446317\n",
       "9        490            3.509805\n",
       "3       1253            3.529668\n",
       "6       1556            3.898983\n",
       "5       1528            4.043348\n",
       "0       1054            4.390837\n",
       "8       1657            4.395354\n",
       "4       1424            4.714747"
      ]
     },
     "execution_count": 20,
     "metadata": {},
     "output_type": "execute_result"
    }
   ],
   "source": [
    "orders = STRProfileByPatient_summary.groupby([\"PatientID\"])['Adjusted_MSI_score'].aggregate(np.median).reset_index().sort_values('Adjusted_MSI_score')\n",
    "orders"
   ]
  },
  {
   "cell_type": "markdown",
   "metadata": {},
   "source": [
    "## Validate various gene expression patterns"
   ]
  },
  {
   "cell_type": "markdown",
   "metadata": {},
   "source": [
    "### Intersecting up"
   ]
  },
  {
   "cell_type": "code",
   "execution_count": 116,
   "metadata": {},
   "outputs": [
    {
     "data": {
      "text/plain": [
       "['CLDN2',\n",
       " 'CD44',\n",
       " 'AXIN2',\n",
       " 'RNF43',\n",
       " 'TGFBI',\n",
       " 'EPHB2',\n",
       " 'TEAD2',\n",
       " 'CDX2',\n",
       " 'LGR5',\n",
       " 'OLFM4',\n",
       " 'ASCL2']"
      ]
     },
     "execution_count": 116,
     "metadata": {},
     "output_type": "execute_result"
    }
   ],
   "source": [
    "intersecting_up = list(pd.read_csv('/node200data/18parkky/datasets/data/public/processed_data/CRC_MSI_intensity_analysis/DEGs/intersecting_up.txt', header=None)[0])\n",
    "intersecting_dw = list(pd.read_csv('/node200data/18parkky/datasets/data/public/processed_data/CRC_MSI_intensity_analysis/DEGs/intersecting_down.txt', header=None)[0])\n",
    "fetal_signature = list(pd.read_csv('/node200data/18parkky/datasets/reference/marker_genes/colon/Chen_et_al/wnt_stem_signature.txt', header=None)[0])\n",
    "fetal_signature"
   ]
  },
  {
   "cell_type": "code",
   "execution_count": 117,
   "metadata": {},
   "outputs": [
    {
     "data": {
      "text/plain": [
       "<Axes: xlabel='Adjusted_MSI_score', ylabel='Adjusted_MeanExpression'>"
      ]
     },
     "execution_count": 117,
     "metadata": {},
     "output_type": "execute_result"
    },
    {
     "data": {
      "image/png": "[encoded data removed]",
      "text/plain": [
       "<Figure size 640x480 with 1 Axes>"
      ]
     },
     "metadata": {},
     "output_type": "display_data"
    }
   ],
   "source": [
    "S100_family = [g for g in fetal_signature if g in list(SalmonOut['GeneName'])]\n",
    "\n",
    "SalmonOut_oi = SalmonOut[(SalmonOut['GeneName'].isin(S100_family))][['GeneName'] + list(orders['PatientID'])].copy()\n",
    "SalmonOut_oi= SalmonOut_oi.T\n",
    "SalmonOut_oi.columns = SalmonOut_oi.iloc[0]\n",
    "SalmonOut_oi.drop(labels='GeneName', axis=0, inplace=True)\n",
    "SalmonOut_oi.index.name = None \n",
    "SalmonOut_oi['MeanExpression'] = [ np.mean(list(tup)[1:]) for tup in SalmonOut_oi.itertuples() ]\n",
    "SalmonOut_oi.reset_index(inplace=True)\n",
    "SalmonOut_oi.columns = ['PatientID'] + S100_family + ['MeanExpression']\n",
    "\n",
    "SalmonOut_oi['Adjusted_MSI_score'] = [ dict_PatientID_to_AdjustedMSIscore[PID] for PID in SalmonOut_oi['PatientID'] ]\n",
    "SalmonOut_oi['Adjusted_MeanExpression'] = [ tup.MeanExpression * dict_PatientID_to_Purity[tup.PatientID] for tup in SalmonOut_oi.itertuples() ]\n",
    "\n",
    "SalmonOut_oi['TumorPurity'] = [  dict_PatientID_to_Purity[PID] for PID in SalmonOut_oi['PatientID'] ]\n",
    "\n",
    "sns.regplot(data=SalmonOut_oi, x='Adjusted_MSI_score', y='Adjusted_MeanExpression')"
   ]
  },
  {
   "cell_type": "code",
   "execution_count": 110,
   "metadata": {},
   "outputs": [
    {
     "data": {
      "text/plain": [
       "PearsonRResult(statistic=-0.37478135392347045, pvalue=0.16870100160735746)"
      ]
     },
     "execution_count": 110,
     "metadata": {},
     "output_type": "execute_result"
    }
   ],
   "source": [
    "scipy.stats.pearsonr( SalmonOut_oi['Adjusted_MSI_score'], SalmonOut_oi['MeanExpression'] )"
   ]
  },
  {
   "cell_type": "code",
   "execution_count": 87,
   "metadata": {},
   "outputs": [],
   "source": []
  },
  {
   "cell_type": "code",
   "execution_count": 41,
   "metadata": {},
   "outputs": [
    {
     "data": {
      "text/plain": [
       "Pandas(Index='S100A11', _1=138.688475, _2=237.501402, _3=168.118899, _4=130.942038, _5=177.628056, _6=177.369808, _7=268.126623, _8=200.945572, _9=119.345163, _10=125.126673, _11=184.038903, _12=218.057981, _13=116.975734, _14=206.10249, _15=170.735839)"
      ]
     },
     "execution_count": 41,
     "metadata": {},
     "output_type": "execute_result"
    }
   ],
   "source": [
    "tup"
   ]
  },
  {
   "cell_type": "code",
   "execution_count": null,
   "metadata": {},
   "outputs": [],
   "source": []
  },
  {
   "cell_type": "markdown",
   "metadata": {},
   "source": [
    "## Immune signature"
   ]
  },
  {
   "cell_type": "code",
   "execution_count": 177,
   "metadata": {},
   "outputs": [],
   "source": [
    "smillie_immune_marker = pd.read_csv('/node200data/18parkky/datasets/reference/marker_genes/colon/Smillie_et_al/colon_marker.csv',)\n",
    "\n",
    "monocyte_markers = smillie_immune_marker[(smillie_immune_marker['ident']=='E.Epithelial')]['gene']\n",
    "monocyte_markers = smillie_immune_marker[(smillie_immune_marker['ident']=='T.CD8')]['gene']\n",
    "monocyte_markers = smillie_immune_marker[(smillie_immune_marker['ident']=='Macrophages')]['gene']\n",
    "# monocyte_markers = ['CEACAM5', 'TFF3', 'OLFM4']\n",
    "\n",
    "monocyte_markers = [ 'C1QA', 'C1QB', 'C1QC' ]\n",
    "monocyte_markers = [ 'CD8A', 'CD3D', 'CD3E', 'CD4' ]"
   ]
  },
  {
   "cell_type": "code",
   "execution_count": 162,
   "metadata": {},
   "outputs": [
    {
     "data": {
      "text/plain": [
       "<Axes: xlabel='TumorPurity', ylabel='AvgSTRDiff'>"
      ]
     },
     "execution_count": 162,
     "metadata": {},
     "output_type": "execute_result"
    },
    {
     "data": {
      "image/png": "[encoded data removed]",
      "text/plain": [
       "<Figure size 640x480 with 1 Axes>"
      ]
     },
     "metadata": {},
     "output_type": "display_data"
    }
   ],
   "source": [
    "sns.regplot(data=STRProfileByPatient[(STRProfileByPatient['reference_STR_allele']==17)], x='TumorPurity', y='AvgSTRDiff')"
   ]
  },
  {
   "cell_type": "code",
   "execution_count": 169,
   "metadata": {},
   "outputs": [
    {
     "data": {
      "text/plain": [
       "{'1054': -3.533972651060166,\n",
       " '1105': -3.556993043253012,\n",
       " '1236': -2.5023483062650285,\n",
       " '1253': -3.4663305690460375,\n",
       " '1424': -3.6483602899130423,\n",
       " '1528': -4.089011402617736,\n",
       " '1556': -3.481744225393198,\n",
       " '1627': -3.2270207389545456,\n",
       " '1657': -3.6214802150456555,\n",
       " '490': -3.7215168423057157,\n",
       " '612': -3.302346400481588,\n",
       " '649': -3.1281330610875515,\n",
       " '698': -1.5586846389571793,\n",
       " '786': -3.091841019504046,\n",
       " '814': -3.8643032334022474}"
      ]
     },
     "execution_count": 169,
     "metadata": {},
     "output_type": "execute_result"
    }
   ],
   "source": [
    "dict_PatientID_to_MSIintensity = { PatientID : np.mean(edf['AvgSTRDiff']) for PatientID, edf in STRProfileByPatient.groupby('PatientID') }\n",
    "dict_PatientID_to_MSIintensity"
   ]
  },
  {
   "cell_type": "code",
   "execution_count": 178,
   "metadata": {},
   "outputs": [
    {
     "name": "stdout",
     "output_type": "stream",
     "text": [
      "-0.023120287031153222 0.9348167801619693\n"
     ]
    },
    {
     "data": {
      "image/png": "[encoded data removed]",
      "text/plain": [
       "<Figure size 640x480 with 1 Axes>"
      ]
     },
     "metadata": {},
     "output_type": "display_data"
    }
   ],
   "source": [
    "SalmonOut_oi = SalmonOut[SalmonOut['GeneName'].isin(monocyte_markers)][list(SalmonOut.columns)[1:]].copy()\n",
    "SalmonOut_oi.reset_index(inplace=True, drop=True)\n",
    "SalmonOut_oi.index = [ str(e) for e in SalmonOut_oi['GeneName'] ]\n",
    "SalmonOut_oi = SalmonOut_oi[list(SalmonOut_oi.columns)[1:]]\n",
    "SalmonOut_oi = SalmonOut_oi.T\n",
    "SalmonOut_oi['avg'] = [ np.mean(list(tup)[1:]) for tup in SalmonOut_oi.itertuples() ]\n",
    "SalmonOut_oi['purity'] = [ dict_PatientID_to_Purity[tup.Index] for tup in SalmonOut_oi.itertuples() ]\n",
    "SalmonOut_oi['adjusted_avg'] = [ tup.avg/(1-tup.purity) for tup in SalmonOut_oi.itertuples() ]  #! Fixed\n",
    "SalmonOut_oi = SalmonOut_oi[(SalmonOut_oi.index.isin(list(dict_PatientID_to_MSIintensity.keys())))]\n",
    "SalmonOut_oi['MSI_intensity'] = [ dict_PatientID_to_MSIintensity[PatientID] for PatientID in SalmonOut_oi.index ]\n",
    "\n",
    "SalmonOut_oi.index.name = 'PatientID'\n",
    "SalmonOut_oi = SalmonOut_oi.reindex([str(e) for e in orders['PatientID']])\n",
    "# sns.scatterplot(data=SalmonOut_oi, y='PatientID', x='avg', )\n",
    "sns.scatterplot(data=SalmonOut_oi, x='MSI_intensity', y='adjusted_avg', )\n",
    "sns.regplot(data=SalmonOut_oi, x='MSI_intensity', y='adjusted_avg', )\n",
    "\n",
    "r, pval = scipy.stats.pearsonr( SalmonOut_oi['MSI_intensity'], SalmonOut_oi['avg'] )\n",
    "print(r, pval)"
   ]
  },
  {
   "cell_type": "code",
   "execution_count": 148,
   "metadata": {},
   "outputs": [
    {
     "name": "stdout",
     "output_type": "stream",
     "text": [
      "0.6139541962210393 0.014903171988446998\n"
     ]
    },
    {
     "data": {
      "image/png": "[encoded data removed]",
      "text/plain": [
       "<Figure size 640x480 with 1 Axes>"
      ]
     },
     "metadata": {},
     "output_type": "display_data"
    }
   ],
   "source": [
    "# sns.scatterplot(data=SalmonOut_oi, x='purity', y='adjusted_avg', hue='PatientID', legend=None)\n",
    "sns.regplot(data=SalmonOut_oi, x='purity', y='MSI_intensity', )\n",
    "r, pval = scipy.stats.pearsonr( SalmonOut_oi['MSI_intensity'], SalmonOut_oi['purity'] )\n",
    "print(r, pval)"
   ]
  },
  {
   "cell_type": "code",
   "execution_count": null,
   "metadata": {},
   "outputs": [],
   "source": []
  },
  {
   "cell_type": "code",
   "execution_count": null,
   "metadata": {},
   "outputs": [],
   "source": []
  },
  {
   "cell_type": "code",
   "execution_count": null,
   "metadata": {},
   "outputs": [],
   "source": []
  },
  {
   "cell_type": "markdown",
   "metadata": {},
   "source": [
    "## Run PUREE (depr: no-need)"
   ]
  },
  {
   "cell_type": "code",
   "execution_count": 130,
   "metadata": {},
   "outputs": [],
   "source": [
    "# input for PUREE\n",
    "SalmonOut_temp = SalmonOut.copy()\n",
    "SalmonOut_temp.index = SalmonOut_temp.pop('GeneID')\n",
    "SalmonOut_temp.pop('GeneName')\n",
    "SalmonOut_temp.to_csv('/node200data/18parkky/datasets/data/public/processed_data/Joanito_et_al/SG-BULK/PUREE/GeneExpression.MSI.csv')"
   ]
  },
  {
   "cell_type": "code",
   "execution_count": 133,
   "metadata": {},
   "outputs": [
    {
     "data": {
      "text/plain": [
       "Index(['47', '95', '106', '326', '363', '420', '470', '490', '584', '609',\n",
       "       '612', '649', '665', '698', '742', '786', '814', '858', '958', '1054',\n",
       "       '1105', '1151', '1165', '1177', '1236', '1253', '1298', '1424', '1528',\n",
       "       '1556', '1627', '1657', '1672'],\n",
       "      dtype='object')"
      ]
     },
     "execution_count": 133,
     "metadata": {},
     "output_type": "execute_result"
    }
   ],
   "source": [
    "SalmonOut_temp.columns"
   ]
  },
  {
   "cell_type": "code",
   "execution_count": 136,
   "metadata": {},
   "outputs": [],
   "source": [
    "PUREE_out = pd.read_csv('/node200data/18parkky/datasets/data/public/processed_data/Joanito_et_al/SG-BULK/PUREE/PUREE_out.tsv', sep='\\t')\n",
    "PUREE_out['PatientID'] = SalmonOut_temp.columns\n",
    "dict_PatientID_to_Purity = { tup.PatientID : tup.purity for tup in PUREE_out.itertuples() }"
   ]
  },
  {
   "cell_type": "code",
   "execution_count": 410,
   "metadata": {},
   "outputs": [
    {
     "data": {
      "text/plain": [
       "{'47': 0.7252808492185182,\n",
       " '95': 0.7326835241335153,\n",
       " '106': 0.7339893547884763,\n",
       " '326': 0.4952983104592613,\n",
       " '363': 0.6871581000346196,\n",
       " '420': 0.6972151847230712,\n",
       " '470': 0.6226775221060317,\n",
       " '490': 0.7250865819108182,\n",
       " '584': 0.4730726037194334,\n",
       " '609': 0.755603951802285,\n",
       " '612': 0.6423505622123117,\n",
       " '649': 0.6056779106937101,\n",
       " '665': 0.6397722720214783,\n",
       " '698': 0.768824113437989,\n",
       " '742': 0.5804289945155692,\n",
       " '786': 0.6620601981967847,\n",
       " '814': 0.6740047436769863,\n",
       " '858': 0.6816232514732977,\n",
       " '958': 0.8048515310176665,\n",
       " '1054': 0.7399145498167222,\n",
       " '1105': 0.74271955890948,\n",
       " '1151': 0.6051670334238497,\n",
       " '1165': 0.7427432462808292,\n",
       " '1177': 0.7188655364049972,\n",
       " '1236': 0.6414232126633197,\n",
       " '1253': 0.6610839476598758,\n",
       " '1298': 0.5943243128895225,\n",
       " '1424': 0.669953514927163,\n",
       " '1528': 0.6377434517419194,\n",
       " '1556': 0.5952232635363951,\n",
       " '1627': 0.4661932880742275,\n",
       " '1657': 0.569172678337741,\n",
       " '1672': 0.435181860114229}"
      ]
     },
     "execution_count": 410,
     "metadata": {},
     "output_type": "execute_result"
    }
   ],
   "source": [
    "dict_PatientID_to_Purity"
   ]
  },
  {
   "cell_type": "code",
   "execution_count": 411,
   "metadata": {},
   "outputs": [],
   "source": [
    "PUREE_out2 = pd.read_csv('/node200data/18parkky/datasets/data/public/processed_data/Joanito_et_al/SG-BULK/PUREE/PUREE_out.Manual.tsv', sep='\\t')\n",
    "PUREE_out2['PatientID'] = salmons_mtx.columns\n",
    "dict_PatientID_to_Purity2 = { tup.PatientID : tup.purity for tup in PUREE_out2.itertuples() }"
   ]
  },
  {
   "cell_type": "code",
   "execution_count": 418,
   "metadata": {},
   "outputs": [
    {
     "data": {
      "text/plain": [
       "<Axes: xlabel='x', ylabel='y'>"
      ]
     },
     "execution_count": 418,
     "metadata": {},
     "output_type": "execute_result"
    },
    {
     "data": {
      "image/png": "[encoded data removed]",
      "text/plain": [
       "<Figure size 640x480 with 1 Axes>"
      ]
     },
     "metadata": {},
     "output_type": "display_data"
    }
   ],
   "source": [
    "ComparePUREE = list()\n",
    "for PatientID in salmons_mtx.columns:\n",
    "    ComparePUREE.append( [PatientID, dict_PatientID_to_Purity[PatientID], dict_PatientID_to_Purity2[PatientID]] )\n",
    "ComparePUREE = pd.DataFrame(ComparePUREE, columns=['PatientID', 'x', 'y'])\n",
    "sns.regplot(data=ComparePUREE, x='x', y='y')"
   ]
  }
 ],
 "metadata": {
  "kernelspec": {
   "display_name": "sc",
   "language": "python",
   "name": "python3"
  },
  "language_info": {
   "codemirror_mode": {
    "name": "ipython",
    "version": 3
   },
   "file_extension": ".py",
   "mimetype": "text/x-python",
   "name": "python",
   "nbconvert_exporter": "python",
   "pygments_lexer": "ipython3",
   "version": "3.12.5"
  }
 },
 "nbformat": 4,
 "nbformat_minor": 2
}
