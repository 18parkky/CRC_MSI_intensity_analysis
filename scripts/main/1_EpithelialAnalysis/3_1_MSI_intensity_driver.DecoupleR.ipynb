{
 "cells": [
  {
   "cell_type": "code",
   "execution_count": 1,
   "metadata": {},
   "outputs": [],
   "source": [
    "import numpy as np \n",
    "import pandas as pd \n",
    "import scanpy as sc\n",
    "import seaborn as sns\n",
    "import scipy.stats as stats\n",
    "import pydeseq2\n",
    "import matplotlib.pyplot as plt\n",
    "\n",
    "import decoupler as dc"
   ]
  },
  {
   "cell_type": "markdown",
   "metadata": {},
   "source": [
    "## Load data"
   ]
  },
  {
   "cell_type": "code",
   "execution_count": 2,
   "metadata": {},
   "outputs": [],
   "source": [
    "Smillie_marker      = pd.read_csv('/node200data/18parkky/datasets/reference/marker_genes/colon/Smillie_et_al/colon_epithelial_marker.csv')\n",
    "CellCycle_marker    = pd.read_csv('/node200data/18parkky/datasets/reference/marker_genes/cell_cycle/cell_cycle_marker.tsv', sep='\\t')\n",
    "G2M_markers = list(CellCycle_marker[(CellCycle_marker['phase']=='G2/M')]['gene_symbol'])\n",
    "S_markers   = list(CellCycle_marker[(CellCycle_marker['phase']=='S')]['gene_symbol'])"
   ]
  },
  {
   "cell_type": "code",
   "execution_count": 6,
   "metadata": {},
   "outputs": [],
   "source": [
    "adata_joanito = sc.read_h5ad('/node200data/18parkky/datasets/data/public/processed_data/Joanito_et_al/2_cell_type_labeled_h5ad/Joanito.preprocessed.NanoMnT.ManualAnnot.h5ad')\n",
    "adata_chen = sc.read_h5ad('/node200data/18parkky/datasets/data/public/processed_data/Immunotherapy_CRC_Chen_et_al/2_cell_type_labeled_h5ad/Chen.MSI.preprocessed.NanoMnT.ManualAnnot.h5ad')"
   ]
  },
  {
   "cell_type": "code",
   "execution_count": 7,
   "metadata": {},
   "outputs": [],
   "source": [
    "chen_patient_metadata = pd.read_csv('/node200data/18parkky/datasets/data/public/FASTQ/Immunotherapy_CRC_Chen_et_al/metadata/Chen_et_al.patient_meta.csv',)\n",
    "\n",
    "dict_PatientID_to_TumorStage = { list(tup)[1] : list(tup)[7] for tup in chen_patient_metadata.itertuples() }\n",
    "dict_PatientID_to_TumorRegressionRatio = { list(tup)[1] : list(tup)[12] for tup in chen_patient_metadata.itertuples() }\n",
    "dict_PatientID_to_Age = { list(tup)[1] : list(tup)[2] for tup in chen_patient_metadata.itertuples() }\n",
    "\n",
    "adata_chen.obs['TumorStage'] = [ dict_PatientID_to_TumorStage[PID] for PID in adata_chen.obs['PatientID'] ]\n",
    "adata_chen.obs['TumorRegressionRatio'] = [ dict_PatientID_to_TumorRegressionRatio[PID] for PID in adata_chen.obs['PatientID'] ]\n",
    "adata_chen.obs['Age'] = [ dict_PatientID_to_Age[PID] for PID in adata_chen.obs['PatientID'] ]"
   ]
  },
  {
   "cell_type": "code",
   "execution_count": 8,
   "metadata": {},
   "outputs": [],
   "source": [
    "chen_patient_order_by_MSI_intensity     = ['P18', 'P17', 'P15', 'P26', 'P20', 'P19', 'P22', 'P23', 'P21', 'P04']\n",
    "chen_patient_order_by_MSI_intensity_P18 = ['P17', 'P15', 'P26', 'P20', 'P19', 'P22', 'P23', 'P21', 'P04']\n",
    "\n",
    "chen_patient_order_by_MSI_intensity_AC  = ['P26', 'P20', 'P21', 'P04']\n",
    "chen_patient_order_by_MSI_intensity_TC  = ['P19', 'P22', 'P23',]\n",
    "chen_patient_order_by_MSI_intensity_SC  = ['P18', 'P17', 'P15']\n",
    "\n",
    "joanito_patient_order_by_MSI_intensity  = ['CRC2817', 'SC035', 'CRC2783', 'SC044']"
   ]
  },
  {
   "cell_type": "markdown",
   "metadata": {},
   "source": [
    "## Regulon-based clustering using pySCENIC"
   ]
  },
  {
   "cell_type": "code",
   "execution_count": 13,
   "metadata": {},
   "outputs": [
    {
     "name": "stderr",
     "output_type": "stream",
     "text": [
      "/home/18parkky/anaconda3-2021.11/envs/sc/lib/python3.12/site-packages/pyscenic/transform.py:42: FutureWarning: In the future `np.object` will be defined as the corresponding NumPy scalar.\n",
      "  (\"Enrichment\", COLUMN_NAME_ANNOTATION): np.object,\n"
     ]
    },
    {
     "ename": "AttributeError",
     "evalue": "module 'numpy' has no attribute 'object'.\n`np.object` was a deprecated alias for the builtin `object`. To avoid this error in existing code, use `object` by itself. Doing this will not modify any behavior and is safe. \nThe aliases was originally deprecated in NumPy 1.20; for more details and guidance see the original release note at:\n    https://numpy.org/devdocs/release/1.20.0-notes.html#deprecations",
     "output_type": "error",
     "traceback": [
      "\u001b[0;31m---------------------------------------------------------------------------\u001b[0m",
      "\u001b[0;31mAttributeError\u001b[0m                            Traceback (most recent call last)",
      "Cell \u001b[0;32mIn[13], line 8\u001b[0m\n\u001b[1;32m      6\u001b[0m \u001b[38;5;28;01mfrom\u001b[39;00m \u001b[38;5;21;01mctxcore\u001b[39;00m\u001b[38;5;21;01m.\u001b[39;00m\u001b[38;5;21;01mrnkdb\u001b[39;00m \u001b[38;5;28;01mimport\u001b[39;00m FeatherRankingDatabase \u001b[38;5;28;01mas\u001b[39;00m RankingDatabase\n\u001b[1;32m      7\u001b[0m \u001b[38;5;28;01mfrom\u001b[39;00m \u001b[38;5;21;01mpyscenic\u001b[39;00m\u001b[38;5;21;01m.\u001b[39;00m\u001b[38;5;21;01mutils\u001b[39;00m \u001b[38;5;28;01mimport\u001b[39;00m modules_from_adjacencies, load_motifs\n\u001b[0;32m----> 8\u001b[0m \u001b[38;5;28;01mfrom\u001b[39;00m \u001b[38;5;21;01mpyscenic\u001b[39;00m\u001b[38;5;21;01m.\u001b[39;00m\u001b[38;5;21;01mprune\u001b[39;00m \u001b[38;5;28;01mimport\u001b[39;00m prune2df, df2regulons\n\u001b[1;32m      9\u001b[0m \u001b[38;5;28;01mfrom\u001b[39;00m \u001b[38;5;21;01mpyscenic\u001b[39;00m\u001b[38;5;21;01m.\u001b[39;00m\u001b[38;5;21;01maucell\u001b[39;00m \u001b[38;5;28;01mimport\u001b[39;00m aucell\n\u001b[1;32m     11\u001b[0m \u001b[38;5;28;01mimport\u001b[39;00m \u001b[38;5;21;01mseaborn\u001b[39;00m \u001b[38;5;28;01mas\u001b[39;00m \u001b[38;5;21;01msns\u001b[39;00m\n",
      "File \u001b[0;32m~/anaconda3-2021.11/envs/sc/lib/python3.12/site-packages/pyscenic/prune.py:27\u001b[0m\n\u001b[1;32m     24\u001b[0m \u001b[38;5;28;01mfrom\u001b[39;00m \u001b[38;5;21;01mmultiprocessing_on_dill\u001b[39;00m\u001b[38;5;21;01m.\u001b[39;00m\u001b[38;5;21;01mcontext\u001b[39;00m \u001b[38;5;28;01mimport\u001b[39;00m Process\n\u001b[1;32m     26\u001b[0m \u001b[38;5;28;01mfrom\u001b[39;00m \u001b[38;5;21;01m.\u001b[39;00m\u001b[38;5;21;01mlog\u001b[39;00m \u001b[38;5;28;01mimport\u001b[39;00m create_logging_handler\n\u001b[0;32m---> 27\u001b[0m \u001b[38;5;28;01mfrom\u001b[39;00m \u001b[38;5;21;01m.\u001b[39;00m\u001b[38;5;21;01mtransform\u001b[39;00m \u001b[38;5;28;01mimport\u001b[39;00m (\n\u001b[1;32m     28\u001b[0m     DF_META_DATA,\n\u001b[1;32m     29\u001b[0m     df2regulons,\n\u001b[1;32m     30\u001b[0m     module2features_auc1st_impl,\n\u001b[1;32m     31\u001b[0m     modules2df,\n\u001b[1;32m     32\u001b[0m     modules2regulons,\n\u001b[1;32m     33\u001b[0m )\n\u001b[1;32m     34\u001b[0m \u001b[38;5;28;01mfrom\u001b[39;00m \u001b[38;5;21;01m.\u001b[39;00m\u001b[38;5;21;01mutils\u001b[39;00m \u001b[38;5;28;01mimport\u001b[39;00m add_motif_url, load_motif_annotations\n\u001b[1;32m     36\u001b[0m __all__ \u001b[38;5;241m=\u001b[39m [\u001b[38;5;124m\"\u001b[39m\u001b[38;5;124mprune2df\u001b[39m\u001b[38;5;124m\"\u001b[39m, \u001b[38;5;124m\"\u001b[39m\u001b[38;5;124mfind_features\u001b[39m\u001b[38;5;124m\"\u001b[39m, \u001b[38;5;124m\"\u001b[39m\u001b[38;5;124mdf2regulons\u001b[39m\u001b[38;5;124m\"\u001b[39m]\n",
      "File \u001b[0;32m~/anaconda3-2021.11/envs/sc/lib/python3.12/site-packages/pyscenic/transform.py:42\u001b[0m\n\u001b[1;32m     34\u001b[0m COLUMN_NAME_TYPE \u001b[38;5;241m=\u001b[39m \u001b[38;5;124m\"\u001b[39m\u001b[38;5;124mType\u001b[39m\u001b[38;5;124m\"\u001b[39m\n\u001b[1;32m     35\u001b[0m \u001b[38;5;66;03m# TODO: Should actually be a function depending on return_recovery_curves and rank_threshold\u001b[39;00m\n\u001b[1;32m     36\u001b[0m DF_META_DATA \u001b[38;5;241m=\u001b[39m make_meta(\n\u001b[1;32m     37\u001b[0m     {\n\u001b[1;32m     38\u001b[0m         (\u001b[38;5;124m\"\u001b[39m\u001b[38;5;124mEnrichment\u001b[39m\u001b[38;5;124m\"\u001b[39m, COLUMN_NAME_AUC): np\u001b[38;5;241m.\u001b[39mfloat64,\n\u001b[1;32m     39\u001b[0m         (\u001b[38;5;124m\"\u001b[39m\u001b[38;5;124mEnrichment\u001b[39m\u001b[38;5;124m\"\u001b[39m, COLUMN_NAME_NES): np\u001b[38;5;241m.\u001b[39mfloat64,\n\u001b[1;32m     40\u001b[0m         (\u001b[38;5;124m\"\u001b[39m\u001b[38;5;124mEnrichment\u001b[39m\u001b[38;5;124m\"\u001b[39m, COLUMN_NAME_MOTIF_SIMILARITY_QVALUE): np\u001b[38;5;241m.\u001b[39mfloat64,\n\u001b[1;32m     41\u001b[0m         (\u001b[38;5;124m\"\u001b[39m\u001b[38;5;124mEnrichment\u001b[39m\u001b[38;5;124m\"\u001b[39m, COLUMN_NAME_ORTHOLOGOUS_IDENTITY): np\u001b[38;5;241m.\u001b[39mfloat64,\n\u001b[0;32m---> 42\u001b[0m         (\u001b[38;5;124m\"\u001b[39m\u001b[38;5;124mEnrichment\u001b[39m\u001b[38;5;124m\"\u001b[39m, COLUMN_NAME_ANNOTATION): \u001b[43mnp\u001b[49m\u001b[38;5;241;43m.\u001b[39;49m\u001b[43mobject\u001b[49m,\n\u001b[1;32m     43\u001b[0m         (\u001b[38;5;124m\"\u001b[39m\u001b[38;5;124mEnrichment\u001b[39m\u001b[38;5;124m\"\u001b[39m, COLUMN_NAME_CONTEXT): np\u001b[38;5;241m.\u001b[39mobject,\n\u001b[1;32m     44\u001b[0m         (\u001b[38;5;124m\"\u001b[39m\u001b[38;5;124mEnrichment\u001b[39m\u001b[38;5;124m\"\u001b[39m, COLUMN_NAME_TARGET_GENES): np\u001b[38;5;241m.\u001b[39mobject,\n\u001b[1;32m     45\u001b[0m         (\u001b[38;5;124m\"\u001b[39m\u001b[38;5;124mEnrichment\u001b[39m\u001b[38;5;124m\"\u001b[39m, COLUMN_NAME_RANK_AT_MAX): np\u001b[38;5;241m.\u001b[39mint64,\n\u001b[1;32m     46\u001b[0m     },\n\u001b[1;32m     47\u001b[0m     index\u001b[38;5;241m=\u001b[39mpd\u001b[38;5;241m.\u001b[39mMultiIndex\u001b[38;5;241m.\u001b[39mfrom_arrays(\n\u001b[1;32m     48\u001b[0m         [[], []], names\u001b[38;5;241m=\u001b[39m(COLUMN_NAME_TF, COLUMN_NAME_MOTIF_ID)\n\u001b[1;32m     49\u001b[0m     ),\n\u001b[1;32m     50\u001b[0m )\n\u001b[1;32m     53\u001b[0m __all__ \u001b[38;5;241m=\u001b[39m [\n\u001b[1;32m     54\u001b[0m     \u001b[38;5;124m\"\u001b[39m\u001b[38;5;124mmodule2features\u001b[39m\u001b[38;5;124m\"\u001b[39m,\n\u001b[1;32m     55\u001b[0m     \u001b[38;5;124m\"\u001b[39m\u001b[38;5;124mmodule2df\u001b[39m\u001b[38;5;124m\"\u001b[39m,\n\u001b[0;32m   (...)\u001b[0m\n\u001b[1;32m     59\u001b[0m     \u001b[38;5;124m\"\u001b[39m\u001b[38;5;124mmodules2regulons\u001b[39m\u001b[38;5;124m\"\u001b[39m,\n\u001b[1;32m     60\u001b[0m ]\n\u001b[1;32m     63\u001b[0m LOGGER \u001b[38;5;241m=\u001b[39m logging\u001b[38;5;241m.\u001b[39mgetLogger(\u001b[38;5;18m__name__\u001b[39m)\n",
      "File \u001b[0;32m~/anaconda3-2021.11/envs/sc/lib/python3.12/site-packages/numpy/__init__.py:324\u001b[0m, in \u001b[0;36m__getattr__\u001b[0;34m(attr)\u001b[0m\n\u001b[1;32m    319\u001b[0m     warnings\u001b[38;5;241m.\u001b[39mwarn(\n\u001b[1;32m    320\u001b[0m         \u001b[38;5;124mf\u001b[39m\u001b[38;5;124m\"\u001b[39m\u001b[38;5;124mIn the future `np.\u001b[39m\u001b[38;5;132;01m{\u001b[39;00mattr\u001b[38;5;132;01m}\u001b[39;00m\u001b[38;5;124m` will be defined as the \u001b[39m\u001b[38;5;124m\"\u001b[39m\n\u001b[1;32m    321\u001b[0m         \u001b[38;5;124m\"\u001b[39m\u001b[38;5;124mcorresponding NumPy scalar.\u001b[39m\u001b[38;5;124m\"\u001b[39m, \u001b[38;5;167;01mFutureWarning\u001b[39;00m, stacklevel\u001b[38;5;241m=\u001b[39m\u001b[38;5;241m2\u001b[39m)\n\u001b[1;32m    323\u001b[0m \u001b[38;5;28;01mif\u001b[39;00m attr \u001b[38;5;129;01min\u001b[39;00m __former_attrs__:\n\u001b[0;32m--> 324\u001b[0m     \u001b[38;5;28;01mraise\u001b[39;00m \u001b[38;5;167;01mAttributeError\u001b[39;00m(__former_attrs__[attr])\n\u001b[1;32m    326\u001b[0m \u001b[38;5;28;01mif\u001b[39;00m attr \u001b[38;5;241m==\u001b[39m \u001b[38;5;124m'\u001b[39m\u001b[38;5;124mtesting\u001b[39m\u001b[38;5;124m'\u001b[39m:\n\u001b[1;32m    327\u001b[0m     \u001b[38;5;28;01mimport\u001b[39;00m \u001b[38;5;21;01mnumpy\u001b[39;00m\u001b[38;5;21;01m.\u001b[39;00m\u001b[38;5;21;01mtesting\u001b[39;00m \u001b[38;5;28;01mas\u001b[39;00m \u001b[38;5;21;01mtesting\u001b[39;00m\n",
      "\u001b[0;31mAttributeError\u001b[0m: module 'numpy' has no attribute 'object'.\n`np.object` was a deprecated alias for the builtin `object`. To avoid this error in existing code, use `object` by itself. Doing this will not modify any behavior and is safe. \nThe aliases was originally deprecated in NumPy 1.20; for more details and guidance see the original release note at:\n    https://numpy.org/devdocs/release/1.20.0-notes.html#deprecations"
     ]
    }
   ],
   "source": [
    "from dask.diagnostics import ProgressBar\n",
    "\n",
    "from arboreto.utils import load_tf_names\n",
    "from arboreto.algo import grnboost2\n",
    "\n",
    "from ctxcore.rnkdb import FeatherRankingDatabase as RankingDatabase\n",
    "from pyscenic.utils import modules_from_adjacencies, load_motifs\n",
    "from pyscenic.prune import prune2df, df2regulons\n",
    "from pyscenic.aucell import aucell\n",
    "\n",
    "import seaborn as sns\n"
   ]
  },
  {
   "cell_type": "code",
   "execution_count": 14,
   "metadata": {},
   "outputs": [
    {
     "data": {
      "text/plain": [
       "'1.26.4'"
      ]
     },
     "execution_count": 14,
     "metadata": {},
     "output_type": "execute_result"
    }
   ],
   "source": [
    "# Specify database:\n",
    "feather_database_url='https://resources.aertslab.org/cistarget/databases/homo_sapiens/hg38/refseq_r80/mc_v10_clust/gene_based/hg38_10kbp_up_10kbp_down_full_tx_v10_clust.genes_vs_motifs.rankings.feather'\n",
    "# feather_database_url='https://resources.aertslab.org/cistarget/databases/homo_sapiens/hg38/refseq_r80/mc_v10_clust/gene_based/hg38_10kbp_up_10kbp_down_full_tx_v10_clust.genes_vs_motifs.scores.feather'\n",
    "# feather_database_url='https://resources.aertslab.org/cistarget/databases/homo_sapiens/hg38/refseq_r80/mc_v10_clust/gene_based/hg38_500bp_up_100bp_down_full_tx_v10_clust.genes_vs_motifs.rankings.feather'\n",
    "# feather_database_url='https://resources.aertslab.org/cistarget/databases/homo_sapiens/hg38/refseq_r80/mc_v10_clust/gene_based/hg38_500bp_up_100bp_down_full_tx_v10_clust.genes_vs_motifs.scores.feather'\n",
    "# Download database with zsync_curl:\n",
    "\"${ZSYNC_CURL}\" \"${feather_database_url}.zsync\""
   ]
  },
  {
   "cell_type": "markdown",
   "metadata": {},
   "source": [
    "### Subset tumor cells"
   ]
  },
  {
   "cell_type": "code",
   "execution_count": 6,
   "metadata": {},
   "outputs": [],
   "source": [
    "adata_chen_tumor = adata_chen[(adata_chen.obs['PatientID'].isin(chen_patient_order_by_MSI_intensity)) & \n",
    "                                      (adata_chen.obs['Manual_CellType_lvl_1']=='Tumor epithelial')].copy()\n",
    "adata_joanito_tumor = adata_joanito[(adata_joanito.obs['PatientID'].isin(joanito_patient_order_by_MSI_intensity)) & \n",
    "                                            (adata_joanito.obs['Manual_CellType_lvl_1']=='Tumor epithelial')].copy()"
   ]
  },
  {
   "cell_type": "code",
   "execution_count": 9,
   "metadata": {},
   "outputs": [
    {
     "ename": "NameError",
     "evalue": "name 'adata_chen_tumor' is not defined",
     "output_type": "error",
     "traceback": [
      "\u001b[0;31m---------------------------------------------------------------------------\u001b[0m",
      "\u001b[0;31mNameError\u001b[0m                                 Traceback (most recent call last)",
      "Cell \u001b[0;32mIn[9], line 1\u001b[0m\n\u001b[0;32m----> 1\u001b[0m \u001b[43madata_chen_tumor\u001b[49m\n",
      "\u001b[0;31mNameError\u001b[0m: name 'adata_chen_tumor' is not defined"
     ]
    }
   ],
   "source": [
    "adata_chen_tumor"
   ]
  },
  {
   "cell_type": "code",
   "execution_count": 7,
   "metadata": {},
   "outputs": [
    {
     "name": "stdout",
     "output_type": "stream",
     "text": [
      "WARNING: adata.X seems to be already log-transformed.\n",
      "WARNING: adata.X seems to be already log-transformed.\n"
     ]
    }
   ],
   "source": [
    "adata_chen_tumor = adata_chen_tumor.raw.to_adata()\n",
    "sc.pp.normalize_total(adata_chen_tumor)\n",
    "sc.pp.log1p(adata_chen_tumor)\n",
    "\n",
    "adata_joanito_tumor = adata_joanito_tumor.raw.to_adata()\n",
    "sc.pp.normalize_total(adata_joanito_tumor)\n",
    "sc.pp.log1p(adata_joanito_tumor)\n",
    "\n",
    "# mitochondrial genes, \"MT-\" for human, \"Mt-\" for mouse\n",
    "adata_joanito_tumor.var[\"mt\"] = adata_joanito_tumor.var_names.str.startswith(\"MT-\")\n",
    "# ribosomal genes\n",
    "adata_joanito_tumor.var[\"ribo\"] = adata_joanito_tumor.var_names.str.startswith((\"RPS\", \"RPL\"))\n",
    "# hemoglobin genes\n",
    "adata_joanito_tumor.var[\"hb\"] = adata_joanito_tumor.var_names.str.contains(\"^HB[^(P)]\")\n",
    "\n",
    "adata_joanito_tumor = adata_joanito_tumor[:, adata_joanito_tumor.var.mt==False].copy()\n",
    "adata_joanito_tumor = adata_joanito_tumor[:, adata_joanito_tumor.var.ribo==False].copy()\n",
    "adata_joanito_tumor = adata_joanito_tumor[:, adata_joanito_tumor.var.hb==False].copy()\n",
    "\n",
    "# mitochondrial genes, \"MT-\" for human, \"Mt-\" for mouse\n",
    "adata_chen_tumor.var[\"mt\"] = adata_chen_tumor.var_names.str.startswith(\"MT-\")\n",
    "# ribosomal genes\n",
    "adata_chen_tumor.var[\"ribo\"] = adata_chen_tumor.var_names.str.startswith((\"RPS\", \"RPL\"))\n",
    "# hemoglobin genes\n",
    "adata_chen_tumor.var[\"hb\"] = adata_chen_tumor.var_names.str.contains(\"^HB[^(P)]\")\n",
    "\n",
    "adata_chen_tumor = adata_chen_tumor[:, adata_chen_tumor.var.mt==False].copy()\n",
    "adata_chen_tumor = adata_chen_tumor[:, adata_chen_tumor.var.ribo==False].copy()\n",
    "adata_chen_tumor = adata_chen_tumor[:, adata_chen_tumor.var.hb==False].copy()"
   ]
  },
  {
   "cell_type": "code",
   "execution_count": 14,
   "metadata": {},
   "outputs": [
    {
     "data": {
      "text/plain": [
       "<Axes: xlabel='AvgSTRDiff', ylabel='PatientID'>"
      ]
     },
     "execution_count": 14,
     "metadata": {},
     "output_type": "execute_result"
    },
    {
     "data": {
      "image/png": "[encoded data removed]",
      "text/plain": [
       "<Figure size 800x400 with 2 Axes>"
      ]
     },
     "metadata": {},
     "output_type": "display_data"
    }
   ],
   "source": [
    "fig, axes = plt.subplots(1, 2, figsize=(8, 4))\n",
    "sns.barplot(data=adata_joanito_tumor.obs, y='PatientID', x='AvgSTRDiff', order=joanito_patient_order_by_MSI_intensity, ax=axes[0])\n",
    "sns.barplot(data=adata_chen_tumor.obs, y='PatientID', x='AvgSTRDiff', order=chen_patient_order_by_MSI_intensity, ax=axes[1])"
   ]
  },
  {
   "cell_type": "markdown",
   "metadata": {},
   "source": [
    "## Assign MSI class: MSI-L vs. MSI-I vs. MSI-H (TBD)"
   ]
  },
  {
   "cell_type": "code",
   "execution_count": null,
   "metadata": {},
   "outputs": [],
   "source": [
    "{'CRC2783': 'MSI-I',\n",
    " 'CRC2817': 'MSI-L',\n",
    " 'SC035': 'MSI-I',\n",
    " 'SC044': 'MSI-H',\n",
    " 'P04': 'MSI-H',\n",
    " 'P15': 'MSI-I',\n",
    " 'P17': 'MSI-L',\n",
    " 'P18': 'MSI-L',\n",
    " 'P19': 'MSI-I',\n",
    " 'P20': 'MSI-I',\n",
    " 'P21': 'MSI-H',\n",
    " 'P22': 'MSI-I',\n",
    " 'P23': 'MSI-H',\n",
    " 'P26': 'MSI-I'}"
   ]
  }
 ],
 "metadata": {
  "kernelspec": {
   "display_name": "sc",
   "language": "python",
   "name": "python3"
  },
  "language_info": {
   "codemirror_mode": {
    "name": "ipython",
    "version": 3
   },
   "file_extension": ".py",
   "mimetype": "text/x-python",
   "name": "python",
   "nbconvert_exporter": "python",
   "pygments_lexer": "ipython3",
   "version": "3.12.5"
  }
 },
 "nbformat": 4,
 "nbformat_minor": 2
}
