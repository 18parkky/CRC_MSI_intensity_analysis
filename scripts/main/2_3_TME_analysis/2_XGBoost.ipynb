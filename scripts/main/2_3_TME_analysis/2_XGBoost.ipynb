{
 "cells": [
  {
   "cell_type": "code",
   "execution_count": 108,
   "metadata": {},
   "outputs": [],
   "source": [
    "import os\n",
    "import glob\n",
    "import numpy as np \n",
    "import scanpy as sc\n",
    "import pandas as pd\n",
    "import scipy.stats\n",
    "\n",
    "import seaborn as sns\n",
    "import matplotlib.pyplot as plt\n",
    "\n",
    "from sklearn.model_selection import train_test_split\n",
    "from xgboost import XGBRegressor\n",
    "from sklearn.metrics import mean_squared_error, r2_score\n",
    "from sklearn.model_selection import cross_val_score"
   ]
  },
  {
   "cell_type": "code",
   "execution_count": 150,
   "metadata": {},
   "outputs": [],
   "source": [
    "adata_C = sc.read_h5ad('/node200data/18parkky/datasets/data/public/processed_data/Immunotherapy_CRC_Chen_et_al/2_cell_type_labeled_h5ad/Chen.MSI.preprocessed.NanoMnT.ManualAnnot.MSI_score_labeled.lvl3.h5ad')\n",
    "adata_J = sc.read_h5ad('/node200data/18parkky/datasets/data/public/processed_data/Joanito_et_al/2_cell_type_labeled_h5ad/Joanito.MSI.preprocessed.NanoMnT.ManualAnnot.MSI_score_labeled.lvl3.h5ad')"
   ]
  },
  {
   "cell_type": "code",
   "execution_count": 151,
   "metadata": {},
   "outputs": [
    {
     "data": {
      "text/plain": [
       "AnnData object with n_obs × n_vars = 56548 × 2000\n",
       "    obs: 'doublet_score', 'predicted_doublet', 'SampleID', 'PatientID', 'BiopsySite', 'n_genes_by_counts', 'log1p_n_genes_by_counts', 'total_counts', 'log1p_total_counts', 'pct_counts_in_top_50_genes', 'pct_counts_in_top_100_genes', 'pct_counts_in_top_200_genes', 'pct_counts_in_top_500_genes', 'total_counts_mt', 'log1p_total_counts_mt', 'pct_counts_mt', 'Identifier', 'Author_CellType_lvl_1', 'Author_CellType_lvl_2', 'n_genes', 'leiden', 'AvgSTRDiff', 'StdSTRDiff', 'NumSTRLoci', 'MSI', 'Manual_CellType_lvl_1', 'MSI_score', 'MSI_score_z', 'Manual_CellType_lvl_2', 'BiopsySite2', 'Manual_CellType_lvl_3'\n",
       "    var: 'n_cells', 'highly_variable', 'means', 'dispersions', 'dispersions_norm', 'highly_variable_nbatches', 'highly_variable_intersection', 'mean', 'std'\n",
       "    uns: 'Author_CellType_lvl_1_colors', 'BiopsySite2_colors', 'Manual_CellType_lvl_1_colors', 'Manual_CellType_lvl_2_colors', 'PatientID_colors', 'hvg', 'leiden', 'leiden_colors', 'log1p', 'neighbors', 'pca', 'umap'\n",
       "    obsm: 'X_pca', 'X_umap'\n",
       "    varm: 'PCs'\n",
       "    obsp: 'connectivities', 'distances'"
      ]
     },
     "execution_count": 151,
     "metadata": {},
     "output_type": "execute_result"
    }
   ],
   "source": [
    "adata_J = adata_J[adata_J.obs['MSI']=='MSI-H'].copy()\n",
    "adata_J"
   ]
  },
  {
   "cell_type": "markdown",
   "metadata": {},
   "source": [
    "## Find MSI intensity associated genes across TME cell types"
   ]
  },
  {
   "cell_type": "markdown",
   "metadata": {},
   "source": [
    "### Chen et al"
   ]
  },
  {
   "cell_type": "code",
   "execution_count": 70,
   "metadata": {},
   "outputs": [],
   "source": [
    "adata_C = adata_C[~adata_C.obs['Manual_CellType_lvl_3'].isin(['Tumor cell', 'Enterocytes', 'Goblet', 'Intestinal stem cell', 'N/A'])].copy()"
   ]
  },
  {
   "cell_type": "code",
   "execution_count": 139,
   "metadata": {},
   "outputs": [
    {
     "data": {
      "text/plain": [
       "['P18', 'P17', 'P26', 'P15', 'P20', 'P19', 'P22', 'P23', 'P21', 'P04']"
      ]
     },
     "execution_count": 139,
     "metadata": {},
     "output_type": "execute_result"
    }
   ],
   "source": [
    "dict_PatientID_to_MSI_score = { PatientID : np.mean(edf['MSI_score']) for PatientID, edf in adata_C.obs[adata_C.obs['Manual_CellType_lvl_3']=='Tumor cell'].groupby('PatientID', observed=True)}\n",
    "dict_PatientID_to_MSI_score = dict(sorted(dict_PatientID_to_MSI_score.items(), key=lambda x:x[1]))\n",
    "chen_patient_order_by_MSI_intensity = list(dict_PatientID_to_MSI_score.keys())\n",
    "adata_C.obs['avg_MSI_score'] = [ dict_PatientID_to_MSI_score[PatientID] for PatientID in adata_C.obs['PatientID'] ]\n",
    "\n",
    "chen_patient_order_by_MSI_intensity"
   ]
  },
  {
   "cell_type": "code",
   "execution_count": 146,
   "metadata": {},
   "outputs": [
    {
     "name": "stdout",
     "output_type": "stream",
     "text": [
      "NK\n"
     ]
    },
    {
     "name": "stdout",
     "output_type": "stream",
     "text": [
      "\tMinimum cell threshold: 46\n",
      "WARNING: adata.X seems to be already log-transformed.\n"
     ]
    },
    {
     "name": "stderr",
     "output_type": "stream",
     "text": [
      "/tmp/ipykernel_246675/4144248359.py:20: FutureWarning: The default of observed=False is deprecated and will be changed to True in a future version of pandas. Pass observed=False to retain current behavior or observed=True to adopt the future default and silence this warning.\n",
      "  dict_PatientID_to_indices = { PatientID : list(edf.index) for PatientID, edf in adata_C_temp.obs.reset_index().groupby('PatientID') }\n"
     ]
    },
    {
     "name": "stdout",
     "output_type": "stream",
     "text": [
      "Naive B\n",
      "\tMinimum cell threshold: 62\n",
      "WARNING: adata.X seems to be already log-transformed.\n"
     ]
    },
    {
     "name": "stderr",
     "output_type": "stream",
     "text": [
      "/tmp/ipykernel_246675/4144248359.py:20: FutureWarning: The default of observed=False is deprecated and will be changed to True in a future version of pandas. Pass observed=False to retain current behavior or observed=True to adopt the future default and silence this warning.\n",
      "  dict_PatientID_to_indices = { PatientID : list(edf.index) for PatientID, edf in adata_C_temp.obs.reset_index().groupby('PatientID') }\n"
     ]
    },
    {
     "name": "stdout",
     "output_type": "stream",
     "text": [
      "Pericyte\n",
      "\tMinimum cell threshold: 18\n",
      "WARNING: adata.X seems to be already log-transformed.\n"
     ]
    },
    {
     "name": "stderr",
     "output_type": "stream",
     "text": [
      "/tmp/ipykernel_246675/4144248359.py:20: FutureWarning: The default of observed=False is deprecated and will be changed to True in a future version of pandas. Pass observed=False to retain current behavior or observed=True to adopt the future default and silence this warning.\n",
      "  dict_PatientID_to_indices = { PatientID : list(edf.index) for PatientID, edf in adata_C_temp.obs.reset_index().groupby('PatientID') }\n"
     ]
    },
    {
     "name": "stdout",
     "output_type": "stream",
     "text": [
      "SMC\n",
      "\tMinimum cell threshold: 6\n",
      "WARNING: adata.X seems to be already log-transformed.\n"
     ]
    },
    {
     "name": "stderr",
     "output_type": "stream",
     "text": [
      "/tmp/ipykernel_246675/4144248359.py:20: FutureWarning: The default of observed=False is deprecated and will be changed to True in a future version of pandas. Pass observed=False to retain current behavior or observed=True to adopt the future default and silence this warning.\n",
      "  dict_PatientID_to_indices = { PatientID : list(edf.index) for PatientID, edf in adata_C_temp.obs.reset_index().groupby('PatientID') }\n"
     ]
    },
    {
     "name": "stdout",
     "output_type": "stream",
     "text": [
      "Tumor cell\n",
      "\tMinimum cell threshold: 685\n",
      "WARNING: adata.X seems to be already log-transformed.\n"
     ]
    },
    {
     "name": "stderr",
     "output_type": "stream",
     "text": [
      "/tmp/ipykernel_246675/4144248359.py:20: FutureWarning: The default of observed=False is deprecated and will be changed to True in a future version of pandas. Pass observed=False to retain current behavior or observed=True to adopt the future default and silence this warning.\n",
      "  dict_PatientID_to_indices = { PatientID : list(edf.index) for PatientID, edf in adata_C_temp.obs.reset_index().groupby('PatientID') }\n"
     ]
    },
    {
     "name": "stdout",
     "output_type": "stream",
     "text": [
      "cDC\n",
      "\tMinimum cell threshold: 20\n",
      "WARNING: adata.X seems to be already log-transformed.\n"
     ]
    },
    {
     "name": "stderr",
     "output_type": "stream",
     "text": [
      "/tmp/ipykernel_246675/4144248359.py:20: FutureWarning: The default of observed=False is deprecated and will be changed to True in a future version of pandas. Pass observed=False to retain current behavior or observed=True to adopt the future default and silence this warning.\n",
      "  dict_PatientID_to_indices = { PatientID : list(edf.index) for PatientID, edf in adata_C_temp.obs.reset_index().groupby('PatientID') }\n"
     ]
    },
    {
     "name": "stdout",
     "output_type": "stream",
     "text": [
      "gd T\n",
      "\tMinimum cell threshold: 99\n",
      "WARNING: adata.X seems to be already log-transformed.\n"
     ]
    },
    {
     "name": "stderr",
     "output_type": "stream",
     "text": [
      "/tmp/ipykernel_246675/4144248359.py:20: FutureWarning: The default of observed=False is deprecated and will be changed to True in a future version of pandas. Pass observed=False to retain current behavior or observed=True to adopt the future default and silence this warning.\n",
      "  dict_PatientID_to_indices = { PatientID : list(edf.index) for PatientID, edf in adata_C_temp.obs.reset_index().groupby('PatientID') }\n"
     ]
    },
    {
     "name": "stdout",
     "output_type": "stream",
     "text": [
      "pDC\n",
      "\tMinimum cell threshold: 5\n",
      "WARNING: adata.X seems to be already log-transformed.\n"
     ]
    },
    {
     "name": "stderr",
     "output_type": "stream",
     "text": [
      "/tmp/ipykernel_246675/4144248359.py:20: FutureWarning: The default of observed=False is deprecated and will be changed to True in a future version of pandas. Pass observed=False to retain current behavior or observed=True to adopt the future default and silence this warning.\n",
      "  dict_PatientID_to_indices = { PatientID : list(edf.index) for PatientID, edf in adata_C_temp.obs.reset_index().groupby('PatientID') }\n"
     ]
    }
   ],
   "source": [
    "for CellType, edf in adata_C.obs.groupby('Manual_CellType_lvl_3', observed=True):\n",
    "    if CellType == 'N/A': continue\n",
    "    \n",
    "    GeneCorrelationResults = list()\n",
    "    PATH_save = f'/node200data/18parkky/datasets/data/public/processed_data/Immunotherapy_CRC_Chen_et_al/4_TME/Chen.{CellType}_GeneCorrelation.tsv'\n",
    "    if os.path.exists(PATH_save)==True: continue\n",
    "    print(CellType, flush=True)\n",
    "\n",
    "    adata_C_temp = adata_C[adata_C.obs['Manual_CellType_lvl_3']==CellType].copy()\n",
    "    adata_C_temp = adata_C_temp.raw.to_adata()\n",
    "    \n",
    "    minimumCells = int(len(adata_C_temp) * 0.05)\n",
    "    print(f'\\tMinimum cell threshold: {minimumCells}')\n",
    "    sc.pp.filter_genes(adata_C_temp, min_cells=minimumCells)\n",
    "    \n",
    "    sc.pp.normalize_total(adata_C_temp)\n",
    "    sc.pp.log1p(adata_C_temp,)\n",
    "    sc.pp.scale(adata_C_temp, max_value=10)\n",
    "\n",
    "    dict_PatientID_to_indices = { PatientID : list(edf.index) for PatientID, edf in adata_C_temp.obs.reset_index().groupby('PatientID') }\n",
    "    \n",
    "    for gene_idx, gene in enumerate(adata_C_temp.var.index):\n",
    "        \n",
    "        dict_PatientID_to_AvgExpression = { PatientID : 0 for PatientID in chen_patient_order_by_MSI_intensity }\n",
    "        for PatientID, indices in dict_PatientID_to_indices.items():\n",
    "            expression = list()\n",
    "            for arr_idx in indices:\n",
    "                expression.append( adata_C_temp.X[arr_idx][gene_idx] ) \n",
    "            dict_PatientID_to_AvgExpression[PatientID] = np.mean(expression)\n",
    "        \n",
    "        r, pval = scipy.stats.spearmanr( list(dict_PatientID_to_MSI_score.values()), [ dict_PatientID_to_AvgExpression[PID] for PID in dict_PatientID_to_MSI_score.keys() ] )\n",
    "        GeneCorrelationResults.append( [gene, r, pval] )\n",
    "            \n",
    "    GeneCorrelationResults = pd.DataFrame(GeneCorrelationResults, columns=['gene', 'r', 'pval'])\n",
    "    GeneCorrelationResults['CellType'] = CellType\n",
    "    GeneCorrelationResults.to_csv(f'/node200data/18parkky/datasets/data/public/processed_data/Immunotherapy_CRC_Chen_et_al/4_TME/Chen.{CellType}_GeneCorrelation.tsv', sep='\\t', index=False)"
   ]
  },
  {
   "cell_type": "markdown",
   "metadata": {},
   "source": [
    "### Joanito et al"
   ]
  },
  {
   "cell_type": "code",
   "execution_count": 152,
   "metadata": {},
   "outputs": [
    {
     "data": {
      "text/plain": [
       "['CRC2817', 'CRC2783', 'SC035', 'SC044']"
      ]
     },
     "execution_count": 152,
     "metadata": {},
     "output_type": "execute_result"
    }
   ],
   "source": [
    "dict_PatientID_to_MSI_score = { PatientID : np.mean(edf['MSI_score']) for PatientID, edf in adata_J.obs[adata_J.obs['Manual_CellType_lvl_3']=='Tumor cell'].groupby('PatientID', observed=True)}\n",
    "dict_PatientID_to_MSI_score = dict(sorted(dict_PatientID_to_MSI_score.items(), key=lambda x:x[1]))\n",
    "joanito_patient_order_by_MSI_intensity = list(dict_PatientID_to_MSI_score.keys())\n",
    "adata_J.obs['avg_MSI_score'] = [ dict_PatientID_to_MSI_score[PatientID] for PatientID in adata_J.obs['PatientID'] ]\n",
    "\n",
    "joanito_patient_order_by_MSI_intensity"
   ]
  },
  {
   "cell_type": "code",
   "execution_count": 121,
   "metadata": {},
   "outputs": [],
   "source": [
    "adata_J = adata_J[~adata_J.obs['Manual_CellType_lvl_3'].isin(['Tumor cell', 'Enterocytes', 'Goblet', 'Intestinal stem cell', 'N/A'])].copy()"
   ]
  },
  {
   "cell_type": "code",
   "execution_count": 153,
   "metadata": {},
   "outputs": [
    {
     "name": "stdout",
     "output_type": "stream",
     "text": [
      "CD4+ T\n"
     ]
    },
    {
     "name": "stdout",
     "output_type": "stream",
     "text": [
      "\tMinimum cell threshold: 666\n",
      "WARNING: adata.X seems to be already log-transformed.\n"
     ]
    },
    {
     "name": "stderr",
     "output_type": "stream",
     "text": [
      "/tmp/ipykernel_246675/3302019587.py:20: FutureWarning: The default of observed=False is deprecated and will be changed to True in a future version of pandas. Pass observed=False to retain current behavior or observed=True to adopt the future default and silence this warning.\n",
      "  dict_PatientID_to_indices = { PatientID : list(edf.index) for PatientID, edf in adata_J_temp.obs.reset_index().groupby('PatientID') }\n"
     ]
    },
    {
     "name": "stdout",
     "output_type": "stream",
     "text": [
      "CD8+ T\n",
      "\tMinimum cell threshold: 423\n",
      "WARNING: adata.X seems to be already log-transformed.\n"
     ]
    },
    {
     "name": "stderr",
     "output_type": "stream",
     "text": [
      "/tmp/ipykernel_246675/3302019587.py:20: FutureWarning: The default of observed=False is deprecated and will be changed to True in a future version of pandas. Pass observed=False to retain current behavior or observed=True to adopt the future default and silence this warning.\n",
      "  dict_PatientID_to_indices = { PatientID : list(edf.index) for PatientID, edf in adata_J_temp.obs.reset_index().groupby('PatientID') }\n"
     ]
    },
    {
     "name": "stdout",
     "output_type": "stream",
     "text": [
      "Endothelial\n",
      "\tMinimum cell threshold: 36\n",
      "WARNING: adata.X seems to be already log-transformed.\n"
     ]
    },
    {
     "name": "stderr",
     "output_type": "stream",
     "text": [
      "/tmp/ipykernel_246675/3302019587.py:20: FutureWarning: The default of observed=False is deprecated and will be changed to True in a future version of pandas. Pass observed=False to retain current behavior or observed=True to adopt the future default and silence this warning.\n",
      "  dict_PatientID_to_indices = { PatientID : list(edf.index) for PatientID, edf in adata_J_temp.obs.reset_index().groupby('PatientID') }\n"
     ]
    },
    {
     "name": "stdout",
     "output_type": "stream",
     "text": [
      "Enterocytes\n",
      "\tMinimum cell threshold: 0\n",
      "WARNING: adata.X seems to be already log-transformed.\n"
     ]
    },
    {
     "name": "stderr",
     "output_type": "stream",
     "text": [
      "/tmp/ipykernel_246675/3302019587.py:20: FutureWarning: The default of observed=False is deprecated and will be changed to True in a future version of pandas. Pass observed=False to retain current behavior or observed=True to adopt the future default and silence this warning.\n",
      "  dict_PatientID_to_indices = { PatientID : list(edf.index) for PatientID, edf in adata_J_temp.obs.reset_index().groupby('PatientID') }\n",
      "/tmp/ipykernel_246675/3302019587.py:31: ConstantInputWarning: An input array is constant; the correlation coefficient is not defined.\n",
      "  r, pval = scipy.stats.spearmanr( list(dict_PatientID_to_MSI_score.values()), [ dict_PatientID_to_AvgExpression[PID] for PID in dict_PatientID_to_MSI_score.keys() ] )\n"
     ]
    },
    {
     "name": "stdout",
     "output_type": "stream",
     "text": [
      "Fibroblast\n",
      "\tMinimum cell threshold: 188\n",
      "WARNING: adata.X seems to be already log-transformed.\n"
     ]
    },
    {
     "name": "stderr",
     "output_type": "stream",
     "text": [
      "/tmp/ipykernel_246675/3302019587.py:20: FutureWarning: The default of observed=False is deprecated and will be changed to True in a future version of pandas. Pass observed=False to retain current behavior or observed=True to adopt the future default and silence this warning.\n",
      "  dict_PatientID_to_indices = { PatientID : list(edf.index) for PatientID, edf in adata_J_temp.obs.reset_index().groupby('PatientID') }\n"
     ]
    },
    {
     "name": "stdout",
     "output_type": "stream",
     "text": [
      "GC B\n",
      "\tMinimum cell threshold: 13\n",
      "WARNING: adata.X seems to be already log-transformed.\n"
     ]
    },
    {
     "name": "stderr",
     "output_type": "stream",
     "text": [
      "/tmp/ipykernel_246675/3302019587.py:20: FutureWarning: The default of observed=False is deprecated and will be changed to True in a future version of pandas. Pass observed=False to retain current behavior or observed=True to adopt the future default and silence this warning.\n",
      "  dict_PatientID_to_indices = { PatientID : list(edf.index) for PatientID, edf in adata_J_temp.obs.reset_index().groupby('PatientID') }\n"
     ]
    },
    {
     "name": "stdout",
     "output_type": "stream",
     "text": [
      "Glial\n",
      "\tMinimum cell threshold: 14\n",
      "WARNING: adata.X seems to be already log-transformed.\n"
     ]
    },
    {
     "name": "stderr",
     "output_type": "stream",
     "text": [
      "/tmp/ipykernel_246675/3302019587.py:20: FutureWarning: The default of observed=False is deprecated and will be changed to True in a future version of pandas. Pass observed=False to retain current behavior or observed=True to adopt the future default and silence this warning.\n",
      "  dict_PatientID_to_indices = { PatientID : list(edf.index) for PatientID, edf in adata_J_temp.obs.reset_index().groupby('PatientID') }\n"
     ]
    },
    {
     "name": "stdout",
     "output_type": "stream",
     "text": [
      "Goblet\n",
      "\tMinimum cell threshold: 6\n",
      "WARNING: adata.X seems to be already log-transformed.\n"
     ]
    },
    {
     "name": "stderr",
     "output_type": "stream",
     "text": [
      "/tmp/ipykernel_246675/3302019587.py:20: FutureWarning: The default of observed=False is deprecated and will be changed to True in a future version of pandas. Pass observed=False to retain current behavior or observed=True to adopt the future default and silence this warning.\n",
      "  dict_PatientID_to_indices = { PatientID : list(edf.index) for PatientID, edf in adata_J_temp.obs.reset_index().groupby('PatientID') }\n"
     ]
    },
    {
     "name": "stdout",
     "output_type": "stream",
     "text": [
      "IGHA+ Plasma\n",
      "\tMinimum cell threshold: 245\n",
      "WARNING: adata.X seems to be already log-transformed.\n"
     ]
    },
    {
     "name": "stderr",
     "output_type": "stream",
     "text": [
      "/tmp/ipykernel_246675/3302019587.py:20: FutureWarning: The default of observed=False is deprecated and will be changed to True in a future version of pandas. Pass observed=False to retain current behavior or observed=True to adopt the future default and silence this warning.\n",
      "  dict_PatientID_to_indices = { PatientID : list(edf.index) for PatientID, edf in adata_J_temp.obs.reset_index().groupby('PatientID') }\n"
     ]
    },
    {
     "name": "stdout",
     "output_type": "stream",
     "text": [
      "IGHG+ Plasma\n",
      "\tMinimum cell threshold: 142\n",
      "WARNING: adata.X seems to be already log-transformed.\n"
     ]
    },
    {
     "name": "stderr",
     "output_type": "stream",
     "text": [
      "/tmp/ipykernel_246675/3302019587.py:20: FutureWarning: The default of observed=False is deprecated and will be changed to True in a future version of pandas. Pass observed=False to retain current behavior or observed=True to adopt the future default and silence this warning.\n",
      "  dict_PatientID_to_indices = { PatientID : list(edf.index) for PatientID, edf in adata_J_temp.obs.reset_index().groupby('PatientID') }\n"
     ]
    },
    {
     "name": "stdout",
     "output_type": "stream",
     "text": [
      "ILC\n",
      "\tMinimum cell threshold: 14\n",
      "WARNING: adata.X seems to be already log-transformed.\n"
     ]
    },
    {
     "name": "stderr",
     "output_type": "stream",
     "text": [
      "/tmp/ipykernel_246675/3302019587.py:20: FutureWarning: The default of observed=False is deprecated and will be changed to True in a future version of pandas. Pass observed=False to retain current behavior or observed=True to adopt the future default and silence this warning.\n",
      "  dict_PatientID_to_indices = { PatientID : list(edf.index) for PatientID, edf in adata_J_temp.obs.reset_index().groupby('PatientID') }\n"
     ]
    },
    {
     "name": "stdout",
     "output_type": "stream",
     "text": [
      "Intestinal stem cell\n",
      "\tMinimum cell threshold: 1\n",
      "WARNING: adata.X seems to be already log-transformed.\n"
     ]
    },
    {
     "name": "stderr",
     "output_type": "stream",
     "text": [
      "/tmp/ipykernel_246675/3302019587.py:20: FutureWarning: The default of observed=False is deprecated and will be changed to True in a future version of pandas. Pass observed=False to retain current behavior or observed=True to adopt the future default and silence this warning.\n",
      "  dict_PatientID_to_indices = { PatientID : list(edf.index) for PatientID, edf in adata_J_temp.obs.reset_index().groupby('PatientID') }\n"
     ]
    },
    {
     "name": "stdout",
     "output_type": "stream",
     "text": [
      "Macrophage\n",
      "\tMinimum cell threshold: 283\n",
      "WARNING: adata.X seems to be already log-transformed.\n"
     ]
    },
    {
     "name": "stderr",
     "output_type": "stream",
     "text": [
      "/tmp/ipykernel_246675/3302019587.py:20: FutureWarning: The default of observed=False is deprecated and will be changed to True in a future version of pandas. Pass observed=False to retain current behavior or observed=True to adopt the future default and silence this warning.\n",
      "  dict_PatientID_to_indices = { PatientID : list(edf.index) for PatientID, edf in adata_J_temp.obs.reset_index().groupby('PatientID') }\n"
     ]
    },
    {
     "name": "stdout",
     "output_type": "stream",
     "text": [
      "Mast\n",
      "\tMinimum cell threshold: 23\n",
      "WARNING: adata.X seems to be already log-transformed.\n"
     ]
    },
    {
     "name": "stderr",
     "output_type": "stream",
     "text": [
      "/tmp/ipykernel_246675/3302019587.py:20: FutureWarning: The default of observed=False is deprecated and will be changed to True in a future version of pandas. Pass observed=False to retain current behavior or observed=True to adopt the future default and silence this warning.\n",
      "  dict_PatientID_to_indices = { PatientID : list(edf.index) for PatientID, edf in adata_J_temp.obs.reset_index().groupby('PatientID') }\n"
     ]
    },
    {
     "name": "stdout",
     "output_type": "stream",
     "text": [
      "Memory B\n",
      "\tMinimum cell threshold: 167\n",
      "WARNING: adata.X seems to be already log-transformed.\n"
     ]
    },
    {
     "name": "stderr",
     "output_type": "stream",
     "text": [
      "/tmp/ipykernel_246675/3302019587.py:20: FutureWarning: The default of observed=False is deprecated and will be changed to True in a future version of pandas. Pass observed=False to retain current behavior or observed=True to adopt the future default and silence this warning.\n",
      "  dict_PatientID_to_indices = { PatientID : list(edf.index) for PatientID, edf in adata_J_temp.obs.reset_index().groupby('PatientID') }\n"
     ]
    },
    {
     "name": "stdout",
     "output_type": "stream",
     "text": [
      "Monocyte\n",
      "\tMinimum cell threshold: 105\n",
      "WARNING: adata.X seems to be already log-transformed.\n"
     ]
    },
    {
     "name": "stderr",
     "output_type": "stream",
     "text": [
      "/tmp/ipykernel_246675/3302019587.py:20: FutureWarning: The default of observed=False is deprecated and will be changed to True in a future version of pandas. Pass observed=False to retain current behavior or observed=True to adopt the future default and silence this warning.\n",
      "  dict_PatientID_to_indices = { PatientID : list(edf.index) for PatientID, edf in adata_J_temp.obs.reset_index().groupby('PatientID') }\n"
     ]
    },
    {
     "name": "stdout",
     "output_type": "stream",
     "text": [
      "NK\n",
      "\tMinimum cell threshold: 58\n",
      "WARNING: adata.X seems to be already log-transformed.\n"
     ]
    },
    {
     "name": "stderr",
     "output_type": "stream",
     "text": [
      "/tmp/ipykernel_246675/3302019587.py:20: FutureWarning: The default of observed=False is deprecated and will be changed to True in a future version of pandas. Pass observed=False to retain current behavior or observed=True to adopt the future default and silence this warning.\n",
      "  dict_PatientID_to_indices = { PatientID : list(edf.index) for PatientID, edf in adata_J_temp.obs.reset_index().groupby('PatientID') }\n"
     ]
    },
    {
     "name": "stdout",
     "output_type": "stream",
     "text": [
      "Naive B\n",
      "\tMinimum cell threshold: 150\n",
      "WARNING: adata.X seems to be already log-transformed.\n"
     ]
    },
    {
     "name": "stderr",
     "output_type": "stream",
     "text": [
      "/tmp/ipykernel_246675/3302019587.py:20: FutureWarning: The default of observed=False is deprecated and will be changed to True in a future version of pandas. Pass observed=False to retain current behavior or observed=True to adopt the future default and silence this warning.\n",
      "  dict_PatientID_to_indices = { PatientID : list(edf.index) for PatientID, edf in adata_J_temp.obs.reset_index().groupby('PatientID') }\n"
     ]
    },
    {
     "name": "stdout",
     "output_type": "stream",
     "text": [
      "Pericyte\n",
      "\tMinimum cell threshold: 47\n",
      "WARNING: adata.X seems to be already log-transformed.\n"
     ]
    },
    {
     "name": "stderr",
     "output_type": "stream",
     "text": [
      "/tmp/ipykernel_246675/3302019587.py:20: FutureWarning: The default of observed=False is deprecated and will be changed to True in a future version of pandas. Pass observed=False to retain current behavior or observed=True to adopt the future default and silence this warning.\n",
      "  dict_PatientID_to_indices = { PatientID : list(edf.index) for PatientID, edf in adata_J_temp.obs.reset_index().groupby('PatientID') }\n"
     ]
    },
    {
     "name": "stdout",
     "output_type": "stream",
     "text": [
      "SMC\n",
      "\tMinimum cell threshold: 3\n",
      "WARNING: adata.X seems to be already log-transformed.\n"
     ]
    },
    {
     "name": "stderr",
     "output_type": "stream",
     "text": [
      "/tmp/ipykernel_246675/3302019587.py:20: FutureWarning: The default of observed=False is deprecated and will be changed to True in a future version of pandas. Pass observed=False to retain current behavior or observed=True to adopt the future default and silence this warning.\n",
      "  dict_PatientID_to_indices = { PatientID : list(edf.index) for PatientID, edf in adata_J_temp.obs.reset_index().groupby('PatientID') }\n"
     ]
    },
    {
     "name": "stdout",
     "output_type": "stream",
     "text": [
      "Transit-amplifying cell\n",
      "\tMinimum cell threshold: 10\n",
      "WARNING: adata.X seems to be already log-transformed.\n"
     ]
    },
    {
     "name": "stderr",
     "output_type": "stream",
     "text": [
      "/tmp/ipykernel_246675/3302019587.py:20: FutureWarning: The default of observed=False is deprecated and will be changed to True in a future version of pandas. Pass observed=False to retain current behavior or observed=True to adopt the future default and silence this warning.\n",
      "  dict_PatientID_to_indices = { PatientID : list(edf.index) for PatientID, edf in adata_J_temp.obs.reset_index().groupby('PatientID') }\n"
     ]
    },
    {
     "name": "stdout",
     "output_type": "stream",
     "text": [
      "Tumor cell\n",
      "\tMinimum cell threshold: 174\n",
      "WARNING: adata.X seems to be already log-transformed.\n"
     ]
    },
    {
     "name": "stderr",
     "output_type": "stream",
     "text": [
      "/tmp/ipykernel_246675/3302019587.py:20: FutureWarning: The default of observed=False is deprecated and will be changed to True in a future version of pandas. Pass observed=False to retain current behavior or observed=True to adopt the future default and silence this warning.\n",
      "  dict_PatientID_to_indices = { PatientID : list(edf.index) for PatientID, edf in adata_J_temp.obs.reset_index().groupby('PatientID') }\n"
     ]
    },
    {
     "name": "stdout",
     "output_type": "stream",
     "text": [
      "cDC\n",
      "\tMinimum cell threshold: 9\n",
      "WARNING: adata.X seems to be already log-transformed.\n"
     ]
    },
    {
     "name": "stderr",
     "output_type": "stream",
     "text": [
      "/tmp/ipykernel_246675/3302019587.py:20: FutureWarning: The default of observed=False is deprecated and will be changed to True in a future version of pandas. Pass observed=False to retain current behavior or observed=True to adopt the future default and silence this warning.\n",
      "  dict_PatientID_to_indices = { PatientID : list(edf.index) for PatientID, edf in adata_J_temp.obs.reset_index().groupby('PatientID') }\n"
     ]
    },
    {
     "name": "stdout",
     "output_type": "stream",
     "text": [
      "gd T\n",
      "\tMinimum cell threshold: 21\n",
      "WARNING: adata.X seems to be already log-transformed.\n"
     ]
    },
    {
     "name": "stderr",
     "output_type": "stream",
     "text": [
      "/tmp/ipykernel_246675/3302019587.py:20: FutureWarning: The default of observed=False is deprecated and will be changed to True in a future version of pandas. Pass observed=False to retain current behavior or observed=True to adopt the future default and silence this warning.\n",
      "  dict_PatientID_to_indices = { PatientID : list(edf.index) for PatientID, edf in adata_J_temp.obs.reset_index().groupby('PatientID') }\n"
     ]
    },
    {
     "name": "stdout",
     "output_type": "stream",
     "text": [
      "pDC\n",
      "\tMinimum cell threshold: 3\n",
      "WARNING: adata.X seems to be already log-transformed.\n"
     ]
    },
    {
     "name": "stderr",
     "output_type": "stream",
     "text": [
      "/tmp/ipykernel_246675/3302019587.py:20: FutureWarning: The default of observed=False is deprecated and will be changed to True in a future version of pandas. Pass observed=False to retain current behavior or observed=True to adopt the future default and silence this warning.\n",
      "  dict_PatientID_to_indices = { PatientID : list(edf.index) for PatientID, edf in adata_J_temp.obs.reset_index().groupby('PatientID') }\n"
     ]
    }
   ],
   "source": [
    "for CellType, edf in adata_J.obs.groupby('Manual_CellType_lvl_3', observed=True):\n",
    "    if CellType == 'N/A': continue\n",
    "    \n",
    "    GeneCorrelationResults = list()\n",
    "    PATH_save = f'/node200data/18parkky/datasets/data/public/processed_data/Joanito_et_al/4_TME/Joanito.{CellType}_GeneCorrelation.tsv'\n",
    "    if os.path.exists(PATH_save)==True: continue\n",
    "    print(CellType, flush=True)\n",
    "\n",
    "    adata_J_temp = adata_J[adata_J.obs['Manual_CellType_lvl_3']==CellType].copy()\n",
    "    adata_J_temp = adata_J_temp.raw.to_adata()\n",
    "    \n",
    "    minimumCells = int(len(adata_J_temp) * 0.05)\n",
    "    print(f'\\tMinimum cell threshold: {minimumCells}')\n",
    "    sc.pp.filter_genes(adata_J_temp, min_cells=minimumCells)\n",
    "    \n",
    "    sc.pp.normalize_total(adata_J_temp)\n",
    "    sc.pp.log1p(adata_J_temp,)\n",
    "    sc.pp.scale(adata_J_temp, max_value=10)\n",
    "\n",
    "    dict_PatientID_to_indices = { PatientID : list(edf.index) for PatientID, edf in adata_J_temp.obs.reset_index().groupby('PatientID') }\n",
    "    \n",
    "    for gene_idx, gene in enumerate(adata_J_temp.var.index):\n",
    "        \n",
    "        dict_PatientID_to_AvgExpression = { PatientID : 0 for PatientID in joanito_patient_order_by_MSI_intensity }\n",
    "        for PatientID, indices in dict_PatientID_to_indices.items():\n",
    "            expression = list()\n",
    "            for arr_idx in indices:\n",
    "                expression.append( adata_J_temp.X[arr_idx][gene_idx] ) \n",
    "            dict_PatientID_to_AvgExpression[PatientID] = np.mean(expression)\n",
    "        \n",
    "        r, pval = scipy.stats.spearmanr( list(dict_PatientID_to_MSI_score.values()), [ dict_PatientID_to_AvgExpression[PID] for PID in dict_PatientID_to_MSI_score.keys() ] )\n",
    "        GeneCorrelationResults.append( [gene, r, pval] )\n",
    "            \n",
    "    GeneCorrelationResults = pd.DataFrame(GeneCorrelationResults, columns=['gene', 'r', 'pval'])\n",
    "    GeneCorrelationResults['CellType'] = CellType\n",
    "    GeneCorrelationResults.to_csv(PATH_save, sep='\\t', index=False)"
   ]
  },
  {
   "cell_type": "markdown",
   "metadata": {},
   "source": [
    "## Intersecting genes"
   ]
  },
  {
   "cell_type": "code",
   "execution_count": 154,
   "metadata": {},
   "outputs": [],
   "source": [
    "DIR_MSI_associated_genes_TME_C = '/node200data/18parkky/datasets/data/public/processed_data/Immunotherapy_CRC_Chen_et_al/4_TME'\n",
    "DIR_MSI_associated_genes_TME_J = '/node200data/18parkky/datasets/data/public/processed_data/Joanito_et_al/4_TME'\n",
    "\n",
    "GeneCorrelationResults_C = list()\n",
    "for PATH_tsv in glob.glob(f'{DIR_MSI_associated_genes_TME_C}/*GeneCorrelation.tsv'):\n",
    "    GeneCorrelationResults_C.append( pd.read_csv(PATH_tsv, sep='\\t') )\n",
    "GeneCorrelationResults_C = pd.concat(GeneCorrelationResults_C)\n",
    "\n",
    "GeneCorrelationResults_J = list()\n",
    "for PATH_tsv in glob.glob(f'{DIR_MSI_associated_genes_TME_J}/*GeneCorrelation.tsv'):\n",
    "    GeneCorrelationResults_J.append( pd.read_csv(PATH_tsv, sep='\\t') )\n",
    "GeneCorrelationResults_J = pd.concat(GeneCorrelationResults_J)"
   ]
  },
  {
   "cell_type": "code",
   "execution_count": 161,
   "metadata": {},
   "outputs": [],
   "source": [
    "GeneCorrelationResults_C_sig = GeneCorrelationResults_C[GeneCorrelationResults_C['pval']<=0.05].copy()\n",
    "GeneCorrelationResults_J_sig = GeneCorrelationResults_J[GeneCorrelationResults_J['pval']<=0.05].copy()\n",
    "\n",
    "GeneCorrelationResults_C_sig['dataset'] = 'Chen'\n",
    "GeneCorrelationResults_J_sig['dataset'] = 'Joanito'"
   ]
  },
  {
   "cell_type": "code",
   "execution_count": 183,
   "metadata": {},
   "outputs": [
    {
     "name": "stdout",
     "output_type": "stream",
     "text": [
      "CD4+ T\n",
      "\t783\t721\n",
      "\t85\t1\t86\n"
     ]
    }
   ],
   "source": [
    "GeneCorrelationResults_sig_combined = pd.concat([GeneCorrelationResults_C_sig, GeneCorrelationResults_J_sig])\n",
    "GeneCorrelationResults_sig_combined['isPositivelyCorrelated'] = [ bool(r>=0.5) for r in GeneCorrelationResults_sig_combined['r'] ]\n",
    "\n",
    "for CellType, edf in GeneCorrelationResults_sig_combined.groupby('CellType', observed=True):\n",
    "    print(CellType)\n",
    "    dict_dataset_to_genes = { dataset : set([ f'{tup.gene}_{tup.isPositivelyCorrelated}' for tup in edf2.itertuples() ]) for dataset, edf2 in edf.groupby('dataset', observed=True) }\n",
    "    if len(dict_dataset_to_genes) != 2: continue\n",
    "    \n",
    "    interesecting_genes_pos_cor = [ g.split('_')[0] for g in dict_dataset_to_genes['Chen'].intersection(dict_dataset_to_genes['Joanito']) if g.split('_')[1]=='True' ]\n",
    "    interesecting_genes_neg_cor = [ g.split('_')[0] for g in dict_dataset_to_genes['Chen'].intersection(dict_dataset_to_genes['Joanito']) if g.split('_')[1]=='False' ]\n",
    "\n",
    "    print(f'\\t{len(dict_dataset_to_genes['Chen'])}\\t{len(dict_dataset_to_genes['Joanito'])}')\n",
    "    print(f'\\t{len(interesecting_genes_pos_cor)}\\t{len(interesecting_genes_neg_cor)}\\t{ len(interesecting_genes_pos_cor)+len(interesecting_genes_neg_cor)}')\n",
    "    break\n",
    "    "
   ]
  },
  {
   "cell_type": "code",
   "execution_count": null,
   "metadata": {},
   "outputs": [],
   "source": [
    "smillie"
   ]
  },
  {
   "cell_type": "markdown",
   "metadata": {},
   "source": [
    "### ORA analsysi "
   ]
  },
  {
   "cell_type": "markdown",
   "metadata": {},
   "source": [
    "## Gene set score"
   ]
  },
  {
   "cell_type": "code",
   "execution_count": 211,
   "metadata": {},
   "outputs": [
    {
     "name": "stdout",
     "output_type": "stream",
     "text": [
      "WARNING: adata.X seems to be already log-transformed.\n",
      "WARNING: adata.X seems to be already log-transformed.\n"
     ]
    }
   ],
   "source": [
    "adata_J = adata_J.raw.to_adata()\n",
    "sc.pp.normalize_total(adata_J)\n",
    "sc.pp.log1p(adata_J)\n",
    "\n",
    "adata_C = adata_C.raw.to_adata()\n",
    "sc.pp.normalize_total(adata_C)\n",
    "sc.pp.log1p(adata_C)"
   ]
  },
  {
   "cell_type": "code",
   "execution_count": 217,
   "metadata": {},
   "outputs": [],
   "source": [
    "sc.tl.score_genes(adata_C, ['GZMA', 'GZMB', 'GNLY', 'GZMK', 'PRF1',], score_name='Cytotoxicity')\n",
    "sc.tl.score_genes(adata_J, ['GZMA', 'GZMB', 'GNLY', 'GZMK', 'PRF1',], score_name='Cytotoxicity')"
   ]
  },
  {
   "cell_type": "code",
   "execution_count": 226,
   "metadata": {},
   "outputs": [],
   "source": [
    "sc.tl.score_genes(adata_C, interesecting_genes_pos_cor, score_name='Cytotoxicity')\n",
    "sc.tl.score_genes(adata_J, interesecting_genes_pos_cor, score_name='Cytotoxicity')"
   ]
  },
  {
   "cell_type": "code",
   "execution_count": 229,
   "metadata": {},
   "outputs": [
    {
     "data": {
      "text/plain": [
       "<Axes: xlabel='PatientID', ylabel='Cytotoxicity'>"
      ]
     },
     "execution_count": 229,
     "metadata": {},
     "output_type": "execute_result"
    },
    {
     "data": {
      "image/png": "[encoded data removed]",
      "text/plain": [
       "<Figure size 640x480 with 1 Axes>"
      ]
     },
     "metadata": {},
     "output_type": "display_data"
    }
   ],
   "source": [
    "sns.barplot(data=adata_C.obs[adata_C.obs['Manual_CellType_lvl_3']=='CD4+ T'], \n",
    "             y='Cytotoxicity', x='PatientID', order=chen_patient_order_by_MSI_intensity, )"
   ]
  },
  {
   "cell_type": "code",
   "execution_count": 230,
   "metadata": {},
   "outputs": [
    {
     "data": {
      "text/plain": [
       "<Axes: xlabel='PatientID', ylabel='Cytotoxicity'>"
      ]
     },
     "execution_count": 230,
     "metadata": {},
     "output_type": "execute_result"
    },
    {
     "data": {
      "image/png": "[encoded data removed]",
      "text/plain": [
       "<Figure size 640x480 with 1 Axes>"
      ]
     },
     "metadata": {},
     "output_type": "display_data"
    }
   ],
   "source": [
    "sns.barplot(data=adata_J.obs[adata_J.obs['Manual_CellType_lvl_3']=='CD4+ T'], \n",
    "             y='Cytotoxicity', x='PatientID', order=joanito_patient_order_by_MSI_intensity)"
   ]
  },
  {
   "cell_type": "code",
   "execution_count": 216,
   "metadata": {},
   "outputs": [
    {
     "data": {
      "image/png": "[encoded data removed]",
      "text/plain": [
       "<Figure size 298x310 with 9 Axes>"
      ]
     },
     "metadata": {},
     "output_type": "display_data"
    },
    {
     "data": {
      "image/png": "[encoded data removed]",
      "text/plain": [
       "<Figure size 520x310 with 9 Axes>"
      ]
     },
     "metadata": {},
     "output_type": "display_data"
    }
   ],
   "source": [
    "sc\n",
    "\n",
    "\n",
    "sc.pl.stacked_violin(adata_J[adata_J.obs['Manual_CellType_lvl_3']=='CD8+ T'], \n",
    "              var_names=['GZMA', 'GZMB', 'GNLY', 'GZMK', 'PRF1', 'IFNG'], \n",
    "              groupby='PatientID', \n",
    "              categories_order=joanito_patient_order_by_MSI_intensity, swap_axes=True,)\n",
    "\n",
    "sc.pl.stacked_violin(adata_C[adata_C.obs['Manual_CellType_lvl_3']=='CD8+ T'], \n",
    "              var_names=['GZMA', 'GZMB', 'GNLY', 'GZMK', 'PRF1', 'IFNG'], \n",
    "              groupby='PatientID', \n",
    "              categories_order=chen_patient_order_by_MSI_intensity, swap_axes=True,)"
   ]
  },
  {
   "cell_type": "code",
   "execution_count": null,
   "metadata": {},
   "outputs": [],
   "source": []
  },
  {
   "cell_type": "code",
   "execution_count": null,
   "metadata": {},
   "outputs": [],
   "source": []
  }
 ],
 "metadata": {
  "kernelspec": {
   "display_name": "sc",
   "language": "python",
   "name": "python3"
  },
  "language_info": {
   "codemirror_mode": {
    "name": "ipython",
    "version": 3
   },
   "file_extension": ".py",
   "mimetype": "text/x-python",
   "name": "python",
   "nbconvert_exporter": "python",
   "pygments_lexer": "ipython3",
   "version": "3.12.5"
  }
 },
 "nbformat": 4,
 "nbformat_minor": 2
}
