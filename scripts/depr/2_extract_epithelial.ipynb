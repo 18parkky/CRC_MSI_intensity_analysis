{
 "cells": [
  {
   "cell_type": "code",
   "execution_count": 1,
   "metadata": {},
   "outputs": [],
   "source": [
    "import os\n",
    "import glob \n",
    "import numpy as np\n",
    "import pandas as pd \n",
    "import scanpy as sc\n",
    "import seaborn as sns"
   ]
  },
  {
   "cell_type": "code",
   "execution_count": 2,
   "metadata": {},
   "outputs": [
    {
     "data": {
      "text/html": [
       "<div>\n",
       "<style scoped>\n",
       "    .dataframe tbody tr th:only-of-type {\n",
       "        vertical-align: middle;\n",
       "    }\n",
       "\n",
       "    .dataframe tbody tr th {\n",
       "        vertical-align: top;\n",
       "    }\n",
       "\n",
       "    .dataframe thead th {\n",
       "        text-align: right;\n",
       "    }\n",
       "</style>\n",
       "<table border=\"1\" class=\"dataframe\">\n",
       "  <thead>\n",
       "    <tr style=\"text-align: right;\">\n",
       "      <th></th>\n",
       "      <th>orig.ident</th>\n",
       "      <th>nCount_RNA</th>\n",
       "      <th>nFeature_RNA</th>\n",
       "      <th>Ident</th>\n",
       "      <th>Patient</th>\n",
       "      <th>Treatment</th>\n",
       "      <th>Tissue</th>\n",
       "      <th>MajorCellType</th>\n",
       "      <th>SubCellType</th>\n",
       "    </tr>\n",
       "  </thead>\n",
       "  <tbody>\n",
       "    <tr>\n",
       "      <th>CRC01-N-I_AAACGGGTCGTTACGA</th>\n",
       "      <td>SeuratProject</td>\n",
       "      <td>2110</td>\n",
       "      <td>777</td>\n",
       "      <td>CRC01-N-I</td>\n",
       "      <td>P01</td>\n",
       "      <td>I</td>\n",
       "      <td>Normal</td>\n",
       "      <td>Epi</td>\n",
       "      <td>c91_Epi_Tumor</td>\n",
       "    </tr>\n",
       "    <tr>\n",
       "      <th>CRC01-N-I_AACACGTTCCTTCAAT</th>\n",
       "      <td>SeuratProject</td>\n",
       "      <td>1857</td>\n",
       "      <td>1303</td>\n",
       "      <td>CRC01-N-I</td>\n",
       "      <td>P01</td>\n",
       "      <td>I</td>\n",
       "      <td>Normal</td>\n",
       "      <td>Epi</td>\n",
       "      <td>c87_Goblet_MUC2</td>\n",
       "    </tr>\n",
       "  </tbody>\n",
       "</table>\n",
       "</div>"
      ],
      "text/plain": [
       "                               orig.ident  nCount_RNA  nFeature_RNA  \\\n",
       "CRC01-N-I_AAACGGGTCGTTACGA  SeuratProject        2110           777   \n",
       "CRC01-N-I_AACACGTTCCTTCAAT  SeuratProject        1857          1303   \n",
       "\n",
       "                                Ident Patient Treatment  Tissue MajorCellType  \\\n",
       "CRC01-N-I_AAACGGGTCGTTACGA  CRC01-N-I     P01         I  Normal           Epi   \n",
       "CRC01-N-I_AACACGTTCCTTCAAT  CRC01-N-I     P01         I  Normal           Epi   \n",
       "\n",
       "                                SubCellType  \n",
       "CRC01-N-I_AAACGGGTCGTTACGA    c91_Epi_Tumor  \n",
       "CRC01-N-I_AACACGTTCCTTCAAT  c87_Goblet_MUC2  "
      ]
     },
     "execution_count": 2,
     "metadata": {},
     "output_type": "execute_result"
    }
   ],
   "source": [
    "AuthorMetadata = pd.read_csv('/node200data/18parkky/datasets/data/public/processed_data/Immunotherapy_CRC_Chen_et_al/AuthorProcessedData/GSE236581_CRC-ICB_metadata.txt.gz', sep=' ')\n",
    "AuthorMetadata.head(2)"
   ]
  },
  {
   "cell_type": "code",
   "execution_count": 3,
   "metadata": {},
   "outputs": [],
   "source": [
    "RunMetadata = pd.read_csv('/node200data/18parkky/datasets/data/public/FASTQ/Immunotherapy_CRC_Chen_et_al/metadata/Chen_et_al.MSI.run_meta.organized.tsv', sep='\\t')\n",
    "dict_HRRid_to_metadata = { tup.Accession : [tup.SampleID, tup.PatientID, tup.TreatmentStage, tup.BiopsySite, tup.TMB, tup.Response ] for tup in RunMetadata.itertuples() }"
   ]
  },
  {
   "cell_type": "code",
   "execution_count": 4,
   "metadata": {},
   "outputs": [],
   "source": [
    "dict_Identiifer_to_CellType = { tup.Index : [tup.MajorCellType, tup.SubCellType ] for tup in AuthorMetadata.itertuples() } "
   ]
  },
  {
   "cell_type": "markdown",
   "metadata": {},
   "source": [
    "## Select epithelial cells from each .h5ad file and save to disk"
   ]
  },
  {
   "cell_type": "markdown",
   "metadata": {},
   "source": [
    "### Tumor"
   ]
  },
  {
   "cell_type": "markdown",
   "metadata": {},
   "source": [
    "#### (1) Label author annotation to each h5ad"
   ]
  },
  {
   "cell_type": "code",
   "execution_count": 46,
   "metadata": {},
   "outputs": [],
   "source": [
    "list_DIR_cellranger_tumor = [ D for D in glob.glob('/node200data/18parkky/datasets/data/public/BAM/Immunotherapy_CRC_Chen_et_al/MSI/Tumor/*') if os.path.isdir(D)==True ]\n",
    "\n",
    "for DIR_cellranger_tumor_out in list_DIR_cellranger_tumor:\n",
    "    PATH_scrublet_out = f'{DIR_cellranger_tumor_out}/outs/filtered_feature_bc_matrix.scrublet.h5'\n",
    "    \n",
    "    if os.path.exists(f'{DIR_cellranger_tumor_out}/outs/filtered_feature_bc_matrix.scrublet.CellTypeLabeled.h5'): continue \n",
    "    \n",
    "    HRR_accession = DIR_cellranger_tumor_out.split(\"/\")[-1]\n",
    "    \n",
    "    adata_e = sc.read_h5ad(PATH_scrublet_out)\n",
    "    \n",
    "    if 'Identifier' in adata_e.obs.columns:\n",
    "        pass \n",
    "    else:\n",
    "        adata_e.obs['Accession'] = HRR_accession\n",
    "        adata_e.obs['SampleID'] = dict_HRRid_to_metadata[HRR_accession][0]\n",
    "        adata_e.obs['PatientID'] = dict_HRRid_to_metadata[HRR_accession][1]\n",
    "        adata_e.obs['TreatmentStage'] = dict_HRRid_to_metadata[HRR_accession][2]\n",
    "        adata_e.obs['BiopsySite'] = dict_HRRid_to_metadata[HRR_accession][3]\n",
    "        adata_e.obs['TMB'] = dict_HRRid_to_metadata[HRR_accession][4]\n",
    "        adata_e.obs['Response'] = dict_HRRid_to_metadata[HRR_accession][5]\n",
    "        adata_e.obs = adata_e.obs[['Accession', 'SampleID', 'PatientID', 'TreatmentStage', 'BiopsySite', 'TMB', 'Response', 'doublet_score', 'predicted_doublet']]\n",
    "        adata_e.write(PATH_scrublet_out)\n",
    "            \n",
    "    adata_e.obs['Identifier'] = [ f'{tup.SampleID.replace(\"P\", \"CRC\")}_{tup.Index.split(\"-\")[0]}' for tup in adata_e.obs.itertuples() ]\n",
    "    for Identifier in adata_e.obs['Identifier']:\n",
    "        try: dict_Identiifer_to_CellType[Identifier]\n",
    "        except KeyError: dict_Identiifer_to_CellType[Identifier] = [ None, None ]\n",
    "    adata_e.obs['Author_MajorCellType'] = [ dict_Identiifer_to_CellType[tup.Identifier][0] for tup in adata_e.obs.itertuples()  ]\n",
    "    adata_e.obs['Author_SubCellType'] = [ dict_Identiifer_to_CellType[tup.Identifier][1] for tup in adata_e.obs.itertuples()  ]\n",
    "    adata_e.write( f'{DIR_cellranger_tumor_out}/outs/filtered_feature_bc_matrix.scrublet.CellTypeLabeled.h5' )\n",
    "    # adata_e[adata_e.obs['Author_MajorCellType']=='Epi'].write( f'{DIR_cellranger_tumor_out}/outs/filtered_feature_bc_matrix.scrublet.CellTypeLabeled.Epi.h5' )"
   ]
  },
  {
   "cell_type": "markdown",
   "metadata": {},
   "source": [
    "#### (2) Merge author cell-type annotated h5ad"
   ]
  },
  {
   "cell_type": "code",
   "execution_count": 48,
   "metadata": {},
   "outputs": [
    {
     "name": "stderr",
     "output_type": "stream",
     "text": [
      "/home/18parkky/anaconda3-2021.11/envs/sc/lib/python3.12/site-packages/anndata/_core/anndata.py:1818: UserWarning: Observation names are not unique. To make them unique, call `.obs_names_make_unique`.\n",
      "  utils.warn_names_duplicates(\"obs\")\n"
     ]
    }
   ],
   "source": [
    "adata_merged = list()\n",
    "for DIR_cellranger_tumor_out in list_DIR_cellranger_tumor:\n",
    "    PATH_celltype_annotated_adata = f'{DIR_cellranger_tumor_out}/outs/filtered_feature_bc_matrix.scrublet.CellTypeLabeled.h5'\n",
    "    if os.path.exists(PATH_celltype_annotated_adata) == False:\n",
    "        print(DIR_cellranger_tumor_out)\n",
    "        raise ValueError\n",
    "    adata_merged.append( sc.read_h5ad(PATH_celltype_annotated_adata) )\n",
    "\n",
    "adata_merged = sc.concat( adata_merged )"
   ]
  },
  {
   "cell_type": "code",
   "execution_count": 50,
   "metadata": {},
   "outputs": [],
   "source": [
    "adata_merged.write('/node200data/18parkky/datasets/data/public/processed_data/Immunotherapy_CRC_Chen_et_al/Tumor.scrublet.CellTypeLabeled.h5ad')\n",
    "adata_merged[adata_merged.obs['Author_MajorCellType']=='Epi'].write('/node200data/18parkky/datasets/data/public/processed_data/Immunotherapy_CRC_Chen_et_al/Tumor.scrublet.CellTypeLabeled.Epi.h5ad')"
   ]
  },
  {
   "cell_type": "markdown",
   "metadata": {},
   "source": [
    "### NAT"
   ]
  },
  {
   "cell_type": "markdown",
   "metadata": {},
   "source": [
    "#### (1) Label author annotation to each h5ad"
   ]
  },
  {
   "cell_type": "code",
   "execution_count": 44,
   "metadata": {},
   "outputs": [
    {
     "name": "stdout",
     "output_type": "stream",
     "text": [
      "HRR1373951\n"
     ]
    }
   ],
   "source": [
    "list_DIR_cellranger_NAT = [ D for D in glob.glob('/node200data/18parkky/datasets/data/public/BAM/Immunotherapy_CRC_Chen_et_al/MSI/Adjacent_normal_tissue/*') if os.path.isdir(D)==True ]\n",
    "\n",
    "for DIR_cellranger_NAT_out in list_DIR_cellranger_NAT:\n",
    "    PATH_scrublet_out = f'{DIR_cellranger_NAT_out}/outs/filtered_feature_bc_matrix.scrublet.h5'\n",
    "    HRR_accession = DIR_cellranger_NAT_out.split(\"/\")[-1]\n",
    "\n",
    "    if os.path.exists(f'{DIR_cellranger_NAT_out}/outs/filtered_feature_bc_matrix.scrublet.CellTypeLabeled.h5'): \n",
    "        # print(f'Cell-type labeled h5ad already exists for :{HRR_accession}')\n",
    "        continue \n",
    "    else:\n",
    "        print(f'{HRR_accession}')\n",
    "    \n",
    "    try:\n",
    "        adata_e = sc.read_h5ad(PATH_scrublet_out)\n",
    "    except:\n",
    "        print(f\"h5ad could not be opened for: {HRR_accession}\")\n",
    "        raise ValueError\n",
    "    \n",
    "    if 'Identifier' in adata_e.obs.columns:\n",
    "        pass \n",
    "    else:\n",
    "        adata_e.obs['Accession'] = HRR_accession\n",
    "        adata_e.obs['SampleID'] = dict_HRRid_to_metadata[HRR_accession][0]\n",
    "        adata_e.obs['PatientID'] = dict_HRRid_to_metadata[HRR_accession][1]\n",
    "        adata_e.obs['TreatmentStage'] = dict_HRRid_to_metadata[HRR_accession][2]\n",
    "        adata_e.obs['BiopsySite'] = dict_HRRid_to_metadata[HRR_accession][3]\n",
    "        adata_e.obs['TMB'] = dict_HRRid_to_metadata[HRR_accession][4]\n",
    "        adata_e.obs['Response'] = dict_HRRid_to_metadata[HRR_accession][5]\n",
    "        adata_e.obs = adata_e.obs[['Accession', 'SampleID', 'PatientID', 'TreatmentStage', 'BiopsySite', 'TMB', 'Response', 'doublet_score', 'predicted_doublet']]\n",
    "        adata_e.write(PATH_scrublet_out)\n",
    "            \n",
    "    adata_e.obs['Identifier'] = [ f'{tup.SampleID.replace(\"P\", \"CRC\")}_{tup.Index.split(\"-\")[0]}' for tup in adata_e.obs.itertuples() ]\n",
    "    for Identifier in adata_e.obs['Identifier']:\n",
    "        try: dict_Identiifer_to_CellType[Identifier]\n",
    "        except KeyError: dict_Identiifer_to_CellType[Identifier] = [ None, None ]\n",
    "    adata_e.obs['Author_MajorCellType'] = [ dict_Identiifer_to_CellType[tup.Identifier][0] for tup in adata_e.obs.itertuples()  ]\n",
    "    adata_e.obs['Author_SubCellType'] = [ dict_Identiifer_to_CellType[tup.Identifier][1] for tup in adata_e.obs.itertuples()  ]\n",
    "    adata_e.write( f'{DIR_cellranger_NAT_out}/outs/filtered_feature_bc_matrix.scrublet.CellTypeLabeled.h5' )"
   ]
  },
  {
   "cell_type": "markdown",
   "metadata": {},
   "source": [
    "#### (2) Merge author cell-type annotated h5ad"
   ]
  },
  {
   "cell_type": "code",
   "execution_count": 59,
   "metadata": {},
   "outputs": [
    {
     "name": "stdout",
     "output_type": "stream",
     "text": [
      "/node200data/18parkky/datasets/data/public/BAM/Immunotherapy_CRC_Chen_et_al/MSI/Adjacent_normal_tissue/HRR1373951\n"
     ]
    },
    {
     "name": "stderr",
     "output_type": "stream",
     "text": [
      "/home/18parkky/anaconda3-2021.11/envs/sc/lib/python3.12/site-packages/anndata/_core/anndata.py:1818: UserWarning: Observation names are not unique. To make them unique, call `.obs_names_make_unique`.\n",
      "  utils.warn_names_duplicates(\"obs\")\n"
     ]
    }
   ],
   "source": [
    "adata_merged = list()\n",
    "for DIR_cellranger_NAT_out in list_DIR_cellranger_NAT:\n",
    "    PATH_celltype_annotated_adata = f'{DIR_cellranger_NAT_out}/outs/filtered_feature_bc_matrix.scrublet.CellTypeLabeled.h5'\n",
    "    if os.path.exists(PATH_celltype_annotated_adata) == False:\n",
    "        print(DIR_cellranger_NAT_out)\n",
    "        continue\n",
    "    \n",
    "    adata_merged.append( sc.read_h5ad(PATH_celltype_annotated_adata) )\n",
    "\n",
    "adata_merged = sc.concat( adata_merged )"
   ]
  },
  {
   "cell_type": "code",
   "execution_count": null,
   "metadata": {},
   "outputs": [],
   "source": [
    "adata_merged.write('/node200data/18parkky/datasets/data/public/processed_data/Immunotherapy_CRC_Chen_et_al/NAT.scrublet.CellTypeLabeled.h5ad')\n",
    "adata_merged[adata_merged.obs['Author_MajorCellType']=='Epi'].write('/node200data/18parkky/datasets/data/public/processed_data/Immunotherapy_CRC_Chen_et_al/NAT.scrublet.CellTypeLabeled.Epi.h5ad')"
   ]
  },
  {
   "cell_type": "markdown",
   "metadata": {},
   "source": [
    "## Merge h5ad from each dataset and match .obs columns and save to disk"
   ]
  },
  {
   "cell_type": "code",
   "execution_count": 28,
   "metadata": {},
   "outputs": [
    {
     "name": "stderr",
     "output_type": "stream",
     "text": [
      "/home/18parkky/anaconda3-2021.11/envs/sc/lib/python3.12/site-packages/anndata/_core/anndata.py:1818: UserWarning: Observation names are not unique. To make them unique, call `.obs_names_make_unique`.\n",
      "  utils.warn_names_duplicates(\"obs\")\n",
      "/home/18parkky/anaconda3-2021.11/envs/sc/lib/python3.12/site-packages/anndata/_core/anndata.py:1818: UserWarning: Observation names are not unique. To make them unique, call `.obs_names_make_unique`.\n",
      "  utils.warn_names_duplicates(\"obs\")\n",
      "/home/18parkky/anaconda3-2021.11/envs/sc/lib/python3.12/site-packages/anndata/_core/anndata.py:1818: UserWarning: Observation names are not unique. To make them unique, call `.obs_names_make_unique`.\n",
      "  utils.warn_names_duplicates(\"obs\")\n"
     ]
    }
   ],
   "source": [
    "NAT_Chen     = sc.read_h5ad('/node200data/18parkky/datasets/data/public/processed_data/Immunotherapy_CRC_Chen_et_al/NAT.scrublet.CellTypeLabeled.h5ad')\n",
    "Tumor_Chen   = sc.read_h5ad('/node200data/18parkky/datasets/data/public/processed_data/Immunotherapy_CRC_Chen_et_al/Tumor.scrublet.CellTypeLabeled.h5ad')\n",
    "\n",
    "adata_Chen = sc.concat( [NAT_Chen, Tumor_Chen] )\n",
    "adata_Chen.obs_names_make_unique()"
   ]
  },
  {
   "cell_type": "code",
   "execution_count": 29,
   "metadata": {},
   "outputs": [
    {
     "name": "stderr",
     "output_type": "stream",
     "text": [
      "/home/18parkky/anaconda3-2021.11/envs/sc/lib/python3.12/site-packages/anndata/_core/anndata.py:1818: UserWarning: Observation names are not unique. To make them unique, call `.obs_names_make_unique`.\n",
      "  utils.warn_names_duplicates(\"obs\")\n",
      "/home/18parkky/anaconda3-2021.11/envs/sc/lib/python3.12/site-packages/anndata/_core/anndata.py:1818: UserWarning: Observation names are not unique. To make them unique, call `.obs_names_make_unique`.\n",
      "  utils.warn_names_duplicates(\"obs\")\n",
      "/home/18parkky/anaconda3-2021.11/envs/sc/lib/python3.12/site-packages/anndata/_core/anndata.py:1818: UserWarning: Observation names are not unique. To make them unique, call `.obs_names_make_unique`.\n",
      "  utils.warn_names_duplicates(\"obs\")\n"
     ]
    }
   ],
   "source": [
    "adata_Joanito_epi = sc.read_h5ad('/node200data/18parkky/datasets/data/public/processed_data/Joanito_et_al/raw_h5ad/MSI/SplitByCellType/Joanito.Epithelial.h5ad')\n",
    "adata_Joanito_NonEpi = sc.read_h5ad('/node200data/18parkky/datasets/data/public/processed_data/Joanito_et_al/raw_h5ad/MSI/SplitByCellType/Joanito.NonEpithelial.h5ad')\n",
    "\n",
    "adata_Joanito = sc.concat( [adata_Joanito_epi, adata_Joanito_NonEpi] )\n",
    "adata_Joanito.obs_names_make_unique()"
   ]
  },
  {
   "cell_type": "markdown",
   "metadata": {},
   "source": [
    "### Match columns between the two dataset .obs"
   ]
  },
  {
   "cell_type": "code",
   "execution_count": 30,
   "metadata": {},
   "outputs": [
    {
     "name": "stderr",
     "output_type": "stream",
     "text": [
      "/tmp/ipykernel_270931/257630861.py:2: FutureWarning: The behavior of Series.replace (and DataFrame.replace) with CategoricalDtype is deprecated. In a future version, replace will only be used for cases that preserve the categories. To change the categories, use ser.cat.rename_categories instead.\n",
      "  adata_Chen.obs['Author_MajorCellType'] = adata_Chen.obs['Author_MajorCellType'].replace( {'Epi' : 'Epithelial', 'Mye' : 'Myeloid'} )\n"
     ]
    }
   ],
   "source": [
    "adata_Chen.obs.rename({'HRR_id' : 'Accession'}, axis=1, inplace=True)\n",
    "adata_Chen.obs['Author_MajorCellType'] = adata_Chen.obs['Author_MajorCellType'].replace( {'Epi' : 'Epithelial', 'Mye' : 'Myeloid'} )"
   ]
  },
  {
   "cell_type": "code",
   "execution_count": 31,
   "metadata": {},
   "outputs": [
    {
     "name": "stderr",
     "output_type": "stream",
     "text": [
      "/tmp/ipykernel_270931/2056192233.py:16: FutureWarning: The behavior of Series.replace (and DataFrame.replace) with CategoricalDtype is deprecated. In a future version, replace will only be used for cases that preserve the categories. To change the categories, use ser.cat.rename_categories instead.\n",
      "  adata_Joanito.obs['BiopsySite'] = adata_Joanito.obs['BiopsySite'].replace( {'Normal' : 'Adjacent normal tissue' } )\n"
     ]
    }
   ],
   "source": [
    "adata_Joanito.obs.rename({'Sample' : 'Accession', \n",
    "                              \"sampleID\" : 'SampleID',\n",
    "                              'patientID' : 'PatientID', \n",
    "                              'AuthorCellType' : 'Author_MajorCellType', \n",
    "                              'CB_wPatient_BiopsySite' : 'Identifier'}, axis=1, inplace=True)\n",
    "\n",
    "adata_Joanito.obs['TreatmentStage'] = 'n/a'\n",
    "adata_Joanito.obs['TMB'] = 'n/a'\n",
    "adata_Joanito.obs['Response'] = 'n/a'\n",
    "adata_Joanito.obs['Author_SubCellType'] = 'n/a'\n",
    "\n",
    "adata_Joanito.obs = adata_Joanito.obs[ ['Accession', 'SampleID', 'PatientID', 'TreatmentStage', 'BiopsySite',\n",
    "       'TMB', 'Response', 'doublet_score', 'predicted_doublet', 'Identifier',\n",
    "       'Author_MajorCellType', 'Author_SubCellType'] ].copy()\n",
    "\n",
    "adata_Joanito.obs['BiopsySite'] = adata_Joanito.obs['BiopsySite'].replace( {'Normal' : 'Adjacent normal tissue' } )\n",
    "adata_Joanito.obs.index = adata_Joanito.obs['Identifier']"
   ]
  },
  {
   "cell_type": "code",
   "execution_count": 36,
   "metadata": {},
   "outputs": [
    {
     "data": {
      "text/plain": [
       "(2112895, 36601)"
      ]
     },
     "execution_count": 36,
     "metadata": {},
     "output_type": "execute_result"
    }
   ],
   "source": [
    "adata_Chen.shape"
   ]
  },
  {
   "cell_type": "code",
   "execution_count": 35,
   "metadata": {},
   "outputs": [
    {
     "data": {
      "text/plain": [
       "(58411, 36601)"
      ]
     },
     "execution_count": 35,
     "metadata": {},
     "output_type": "execute_result"
    }
   ],
   "source": [
    "adata_Joanito.shape"
   ]
  },
  {
   "cell_type": "code",
   "execution_count": 32,
   "metadata": {},
   "outputs": [],
   "source": [
    "adata_merged = sc.concat( [ adata_Chen, adata_Joanito] )"
   ]
  },
  {
   "cell_type": "code",
   "execution_count": 33,
   "metadata": {},
   "outputs": [],
   "source": [
    "adata_merged.write('/node200data/18parkky/datasets/data/public/processed_data/CRC_MSI_intensity_analysis/h5ad/adata.merged_raw.h5ad')"
   ]
  },
  {
   "cell_type": "code",
   "execution_count": 34,
   "metadata": {},
   "outputs": [],
   "source": [
    "adata_merged[adata_merged.obs['Author_MajorCellType']=='Epithelial'].write('/node200data/18parkky/datasets/data/public/processed_data/CRC_MSI_intensity_analysis/h5ad/adata.merged_raw.epi.h5ad')"
   ]
  }
 ],
 "metadata": {
  "kernelspec": {
   "display_name": "sc",
   "language": "python",
   "name": "python3"
  },
  "language_info": {
   "codemirror_mode": {
    "name": "ipython",
    "version": 3
   },
   "file_extension": ".py",
   "mimetype": "text/x-python",
   "name": "python",
   "nbconvert_exporter": "python",
   "pygments_lexer": "ipython3",
   "version": "3.12.5"
  }
 },
 "nbformat": 4,
 "nbformat_minor": 2
}
