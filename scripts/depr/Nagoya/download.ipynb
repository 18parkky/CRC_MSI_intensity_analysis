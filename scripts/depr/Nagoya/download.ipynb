{
 "cells": [
  {
   "cell_type": "code",
   "execution_count": null,
   "metadata": {},
   "outputs": [],
   "source": [
    "DIR_download_out = '/node200data/18parkky/datasets/data/public/FASTQ/Nagoya_CRC_bisulfate_seq'"
   ]
  },
  {
   "cell_type": "code",
   "execution_count": 9,
   "metadata": {},
   "outputs": [
    {
     "name": "stdout",
     "output_type": "stream",
     "text": [
      "--2024-11-21 12:50:06--  ftp://ftp.sra.ebi.ac.uk/vol1/fastq/DRR249/DRR249442/DRR249442_1.fastq.gz\n",
      "           => ‘/node200data/18parkky/datasets/data/public/FASTQ/Nagoya_CRC_bisulfate_seq/DRR249442_1.fastq.gz’\n",
      "Resolving ftp.sra.ebi.ac.uk (ftp.sra.ebi.ac.uk)... 193.62.193.165\n",
      "Connecting to ftp.sra.ebi.ac.uk (ftp.sra.ebi.ac.uk)|193.62.193.165|:21... connected.\n",
      "Logging in as anonymous ... Logged in!\n",
      "==> SYST ... done.    ==> PWD ... done.\n",
      "==> TYPE I ... done.  ==> CWD (1) /vol1/fastq/DRR249/DRR249442 ... done.\n",
      "==> SIZE DRR249442_1.fastq.gz ... 21296408510\n",
      "==> PASV ... done.    ==> RETR DRR249442_1.fastq.gz ... done.\n",
      "Length: 21296408510 (20G) (unauthoritative)\n",
      "\n",
      "76% [==========================>         ] 16,388,798,400 29.9MB/s  eta 3m 8s  "
     ]
    }
   ],
   "source": [
    "!wget ftp://ftp.sra.ebi.ac.uk/vol1/fastq/DRR249/DRR249442/DRR249442_1.fastq.gz -O /node200data/18parkky/datasets/data/public/FASTQ/Nagoya_CRC_bisulfate_seq/DRR249442_1.fastq.gz"
   ]
  },
  {
   "cell_type": "code",
   "execution_count": null,
   "metadata": {},
   "outputs": [],
   "source": [
    "!wget ftp://ftp.sra.ebi.ac.uk/vol1/fastq/DRR249/DRR249442/DRR249442_2.fastq.gz -O /node200data/18parkky/datasets/data/public/FASTQ/Nagoya_CRC_bisulfate_seq/DRR249442_2.fastq.gz"
   ]
  }
 ],
 "metadata": {
  "kernelspec": {
   "display_name": "sc",
   "language": "python",
   "name": "python3"
  },
  "language_info": {
   "codemirror_mode": {
    "name": "ipython",
    "version": 3
   },
   "file_extension": ".py",
   "mimetype": "text/x-python",
   "name": "python",
   "nbconvert_exporter": "python",
   "pygments_lexer": "ipython3",
   "version": "3.12.5"
  }
 },
 "nbformat": 4,
 "nbformat_minor": 2
}
